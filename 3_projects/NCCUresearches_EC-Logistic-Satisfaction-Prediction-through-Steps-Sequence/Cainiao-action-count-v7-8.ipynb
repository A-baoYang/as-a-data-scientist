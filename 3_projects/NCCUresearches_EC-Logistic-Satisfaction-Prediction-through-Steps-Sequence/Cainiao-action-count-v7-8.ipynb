{
 "cells": [
  {
   "cell_type": "code",
   "execution_count": 2,
   "metadata": {},
   "outputs": [],
   "source": [
    "import numpy as np\n",
    "import pandas as pd\n",
    "pd.set_option('display.max_columns', None)\n",
    "import random\n",
    "import datetime as dt\n",
    "import matplotlib.pyplot as plt\n",
    "# import seaborn as sns\n",
    "import warnings\n",
    "warnings.filterwarnings('ignore')\n",
    "import gc\n",
    "# del a\n",
    "# gc.collect()\n",
    "\n",
    "from matplotlib.font_manager import FontProperties\n",
    "from IPython.core.interactiveshell import InteractiveShell\n",
    "InteractiveShell.ast_node_interactivity = \"all\"\n",
    "from tqdm import tqdm\n",
    "\n",
    "fontproperties = FontProperties(fname = 'font_ch.ttf', size = 14)\n",
    "font = 'font_ch.ttf'\n",
    "\n"
   ]
  },
  {
   "cell_type": "code",
   "execution_count": 3,
   "metadata": {},
   "outputs": [
    {
     "name": "stdout",
     "output_type": "stream",
     "text": [
      "=== order ===\n"
     ]
    },
    {
     "data": {
      "text/plain": [
       "(5000601, 3)"
      ]
     },
     "execution_count": 3,
     "metadata": {},
     "output_type": "execute_result"
    },
    {
     "data": {
      "text/html": [
       "<div>\n",
       "<style scoped>\n",
       "    .dataframe tbody tr th:only-of-type {\n",
       "        vertical-align: middle;\n",
       "    }\n",
       "\n",
       "    .dataframe tbody tr th {\n",
       "        vertical-align: top;\n",
       "    }\n",
       "\n",
       "    .dataframe thead th {\n",
       "        text-align: right;\n",
       "    }\n",
       "</style>\n",
       "<table border=\"1\" class=\"dataframe\">\n",
       "  <thead>\n",
       "    <tr style=\"text-align: right;\">\n",
       "      <th></th>\n",
       "      <th>order_id</th>\n",
       "      <th>pay_timestamp</th>\n",
       "      <th>Logistics_review_score</th>\n",
       "    </tr>\n",
       "  </thead>\n",
       "  <tbody>\n",
       "    <tr>\n",
       "      <th>0</th>\n",
       "      <td>488</td>\n",
       "      <td>2017-01-01 13:07:00</td>\n",
       "      <td>5.0</td>\n",
       "    </tr>\n",
       "    <tr>\n",
       "      <th>3</th>\n",
       "      <td>6827</td>\n",
       "      <td>2017-01-01 13:13:00</td>\n",
       "      <td>5.0</td>\n",
       "    </tr>\n",
       "    <tr>\n",
       "      <th>4</th>\n",
       "      <td>10231</td>\n",
       "      <td>2017-01-01 17:19:00</td>\n",
       "      <td>5.0</td>\n",
       "    </tr>\n",
       "    <tr>\n",
       "      <th>5</th>\n",
       "      <td>10233</td>\n",
       "      <td>2017-01-01 22:52:00</td>\n",
       "      <td>5.0</td>\n",
       "    </tr>\n",
       "    <tr>\n",
       "      <th>6</th>\n",
       "      <td>10383</td>\n",
       "      <td>2017-01-01 14:14:00</td>\n",
       "      <td>3.0</td>\n",
       "    </tr>\n",
       "  </tbody>\n",
       "</table>\n",
       "</div>"
      ],
      "text/plain": [
       "   order_id        pay_timestamp  Logistics_review_score\n",
       "0       488  2017-01-01 13:07:00                     5.0\n",
       "3      6827  2017-01-01 13:13:00                     5.0\n",
       "4     10231  2017-01-01 17:19:00                     5.0\n",
       "5     10233  2017-01-01 22:52:00                     5.0\n",
       "6     10383  2017-01-01 14:14:00                     3.0"
      ]
     },
     "execution_count": 3,
     "metadata": {},
     "output_type": "execute_result"
    },
    {
     "name": "stdout",
     "output_type": "stream",
     "text": [
      "=== logistic ===\n"
     ]
    },
    {
     "data": {
      "text/plain": [
       "(53368491, 6)"
      ]
     },
     "execution_count": 3,
     "metadata": {},
     "output_type": "execute_result"
    },
    {
     "data": {
      "text/html": [
       "<div>\n",
       "<style scoped>\n",
       "    .dataframe tbody tr th:only-of-type {\n",
       "        vertical-align: middle;\n",
       "    }\n",
       "\n",
       "    .dataframe tbody tr th {\n",
       "        vertical-align: top;\n",
       "    }\n",
       "\n",
       "    .dataframe thead th {\n",
       "        text-align: right;\n",
       "    }\n",
       "</style>\n",
       "<table border=\"1\" class=\"dataframe\">\n",
       "  <thead>\n",
       "    <tr style=\"text-align: right;\">\n",
       "      <th></th>\n",
       "      <th>order_id</th>\n",
       "      <th>order_date</th>\n",
       "      <th>action</th>\n",
       "      <th>timestamp</th>\n",
       "      <th>pay_timestamp</th>\n",
       "      <th>Logistics_review_score</th>\n",
       "    </tr>\n",
       "  </thead>\n",
       "  <tbody>\n",
       "    <tr>\n",
       "      <th>3</th>\n",
       "      <td>31846983</td>\n",
       "      <td>20170107</td>\n",
       "      <td>GOT</td>\n",
       "      <td>2017-01-07 18:39:00</td>\n",
       "      <td>2017-01-07 14:41:00</td>\n",
       "      <td>5.0</td>\n",
       "    </tr>\n",
       "    <tr>\n",
       "      <th>4</th>\n",
       "      <td>31846983</td>\n",
       "      <td>20170107</td>\n",
       "      <td>ARRIVAL</td>\n",
       "      <td>2017-01-07 20:44:00</td>\n",
       "      <td>2017-01-07 14:41:00</td>\n",
       "      <td>5.0</td>\n",
       "    </tr>\n",
       "    <tr>\n",
       "      <th>5</th>\n",
       "      <td>31846983</td>\n",
       "      <td>20170107</td>\n",
       "      <td>SIGNED</td>\n",
       "      <td>2017-01-08 16:35:00</td>\n",
       "      <td>2017-01-07 14:41:00</td>\n",
       "      <td>5.0</td>\n",
       "    </tr>\n",
       "    <tr>\n",
       "      <th>6</th>\n",
       "      <td>31846983</td>\n",
       "      <td>20170107</td>\n",
       "      <td>TRADE_SUCCESS</td>\n",
       "      <td>2017-01-17 17:05:00</td>\n",
       "      <td>2017-01-07 14:41:00</td>\n",
       "      <td>5.0</td>\n",
       "    </tr>\n",
       "    <tr>\n",
       "      <th>7</th>\n",
       "      <td>31846983</td>\n",
       "      <td>20170107</td>\n",
       "      <td>CONSIGN</td>\n",
       "      <td>2017-01-07 17:05:00</td>\n",
       "      <td>2017-01-07 14:41:00</td>\n",
       "      <td>5.0</td>\n",
       "    </tr>\n",
       "  </tbody>\n",
       "</table>\n",
       "</div>"
      ],
      "text/plain": [
       "   order_id  order_date         action            timestamp  \\\n",
       "3  31846983    20170107            GOT  2017-01-07 18:39:00   \n",
       "4  31846983    20170107        ARRIVAL  2017-01-07 20:44:00   \n",
       "5  31846983    20170107         SIGNED  2017-01-08 16:35:00   \n",
       "6  31846983    20170107  TRADE_SUCCESS  2017-01-17 17:05:00   \n",
       "7  31846983    20170107        CONSIGN  2017-01-07 17:05:00   \n",
       "\n",
       "         pay_timestamp  Logistics_review_score  \n",
       "3  2017-01-07 14:41:00                     5.0  \n",
       "4  2017-01-07 14:41:00                     5.0  \n",
       "5  2017-01-07 14:41:00                     5.0  \n",
       "6  2017-01-07 14:41:00                     5.0  \n",
       "7  2017-01-07 14:41:00                     5.0  "
      ]
     },
     "execution_count": 3,
     "metadata": {},
     "output_type": "execute_result"
    }
   ],
   "source": [
    "###columns\n",
    "inventory_cols = ['day','item_id','warehouse_id','warehouse_city_id','total_begin_qty','total_end_qty','Replen_in_qty',\n",
    "                  'transfer_in_qty','sale_out_qty','transfer_out_qty']\n",
    "item_cols = ['date','item_id','front_page_item_id','merchant_id','brand_id','category_id','sub_category_id','pc_pv',\n",
    "             'app_pv','pc_uv','app_uv','if_cainiao']\n",
    "logistic_cols = ['order_id','order_date','logistic_order_id','action','facility_id','facility_type','city_id',\n",
    "                 'logistic_company_id','timestamp']\n",
    "order_cols = ['day','order_id','item_det_info','pay_timestamp','buyer_id','promise_speed','if_cainiao','merchant_id',\n",
    "              'Logistics_review_score']\n",
    "seller_cols = ['day','merchant_id','subcategory_id','pc_pv','pc_uv','app_pv','app_uv','avg_logistic_review_score',\n",
    "              'avg_order_quality_score','avg_service_quality_score','if_cainiao']\n",
    "\n",
    "# print(s'=== inventory ===')\n",
    "# inventory = pd.read_csv('msom_inventory_data.csv', header=None)\n",
    "# inventory.columns = inventory_cols\n",
    "# inventory.shape\n",
    "# inventory.head()\n",
    "\n",
    "\n",
    "# print('=== item ===')\n",
    "# item = pd.read_csv('msom_item_data.csv', header=None) \n",
    "# item.columns = item_cols\n",
    "# item.shape\n",
    "# item.head()\n",
    "\n",
    "\n",
    "print('=== order ===')\n",
    "order = pd.read_csv('msom_order_data_1.csv', header=None)\n",
    "order.columns = order_cols\n",
    "order = order.drop(['day','item_det_info','buyer_id','promise_speed','if_cainiao','merchant_id'], axis=1)\n",
    "order = order[~order['Logistics_review_score'].isnull()]\n",
    "# for i in tqdm(range(2, 8)):\n",
    "#     order_ = pd.read_csv(f'msom_order_data_{i}.csv', header=None)\n",
    "#     order_.columns = order_cols\n",
    "#     order_ = order_.drop(['day','item_det_info','buyer_id','promise_speed','if_cainiao','merchant_id'], axis=1)\n",
    "#     order_ = order_[~order_['Logistics_review_score'].isnull()]\n",
    "#     order = pd.concat([order, order_])\n",
    "\n",
    "order.shape\n",
    "order.head()\n",
    "\n",
    "\n",
    "print('=== logistic ===')\n",
    "# logistic = []\n",
    "# with open('msom_logistic_detail_1.csv', encoding='utf-8') as f:\n",
    "#     for line in f.readlines():\n",
    "#         line = line.strip()\n",
    "#         features = line.split(',')\n",
    "#         logistic.append(features)\n",
    "# logistic = pd.DataFrame(logistic)\n",
    "logistic = pd.read_csv('msom_logistic_detail_1.csv', header=None)\n",
    "logistic.columns = logistic_cols\n",
    "logistic = logistic.drop(['logistic_order_id','facility_id','facility_type','city_id','logistic_company_id'], axis=1)\n",
    "logistic = pd.merge(logistic, order, on='order_id', how='left')\n",
    "logistic = logistic[~logistic['Logistics_review_score'].isnull()]\n",
    "logistic = logistic.drop_duplicates()\n",
    "logistic.shape\n",
    "logistic.head()\n",
    "\n",
    "# def importdata_logistic(filename):\n",
    "#     logistic = pd.read_csv(filename, header=None) \n",
    "#     logistic.columns = logistic_cols\n",
    "#     logistic = logistic.drop(['logistic_order_id','facility_id','facility_type','city_id','logistic_company_id'], axis=1)\n",
    "#     logistic.shape\n",
    "#     logistic.head()\n",
    "#     return logistic\n",
    "\n",
    "\n",
    "# stats_logistic = []\n",
    "# print('=== stats_logistic ===')\n",
    "# for i in tqdm(range(1, 8)):\n",
    "#     logistic = importdata_logistic(f'msom_logistic_detail_{i}.csv')\n",
    "#     logistic.shape\n",
    "#     logistic = pd.merge(logistic, order, on='order_id', how='left')\n",
    "#     logistic.shape\n",
    "#     logistic = logistic[~logistic['Logistics_review_score'].isnull()]\n",
    "#     logistic = logistic.drop_duplicates()\n",
    "#     stats_logistic_ = logistic.groupby(['Logistics_review_score']).size().reset_index()\n",
    "#     stats_logistic_\n",
    "#     stats_logistic.append(stats_logistic_)\n",
    "#     del logistic\n",
    "#     gc.collect()\n",
    "\n",
    "\n",
    "# print('=== seller ===')\n",
    "# seller = pd.read_csv('msom_seller_data.csv', header=None) \n",
    "# seller.columns = seller_cols\n",
    "# seller.shape\n",
    "# seller.head()\n",
    "\n",
    "\n"
   ]
  },
  {
   "cell_type": "code",
   "execution_count": 4,
   "metadata": {},
   "outputs": [
    {
     "data": {
      "text/plain": [
       "20"
      ]
     },
     "execution_count": 4,
     "metadata": {},
     "output_type": "execute_result"
    },
    {
     "data": {
      "text/plain": [
       "0"
      ]
     },
     "execution_count": 4,
     "metadata": {},
     "output_type": "execute_result"
    }
   ],
   "source": [
    "review1_oids = np.unique(random.sample(logistic[logistic['Logistics_review_score']==1].order_id.unique().tolist(), 10000))\n",
    "review2_oids = np.unique(random.sample(logistic[logistic['Logistics_review_score']==2].order_id.unique().tolist(), 10000))\n",
    "review3_oids = np.unique(random.sample(logistic[logistic['Logistics_review_score']==3].order_id.unique().tolist(), 10000))\n",
    "review4_oids = np.unique(random.sample(logistic[logistic['Logistics_review_score']==4].order_id.unique().tolist(), 10000))\n",
    "review5_oids = np.unique(random.sample(logistic[logistic['Logistics_review_score']==5].order_id.unique().tolist(), 10000))\n",
    "\n",
    "# flag1_oids = logistic[logistic['Logistics_review_score']>=4].order_id.unique()\n",
    "# flag0_oids = logistic[logistic['Logistics_review_score']<4].order_id.unique()\n",
    "\n",
    "# logistic[logistic['Logistics_review_score']==5].order_id.unique()\n",
    "# logistic[logistic['order_id']==114956315].sort_values('timestamp')\n",
    "\n",
    "sample_oids = np.concatenate([review1_oids, review2_oids, review3_oids, review4_oids, review5_oids])\n",
    "logistic_ = logistic[logistic['order_id'].isin(sample_oids)]\n",
    "# logistic_ = logistic[(logistic['Logistics_review_score']==1)|(logistic['Logistics_review_score']==5)]\n",
    "del logistic\n",
    "gc.collect()\n",
    "\n",
    "logistic = logistic_.copy()\n",
    "del logistic_\n",
    "gc.collect()\n",
    "\n"
   ]
  },
  {
   "cell_type": "markdown",
   "metadata": {},
   "source": [
    "### cut the duration into 5/10/20 durations\n",
    "- trials: 3, 4, 5, 6, 7, 8, 9, 10, 14, 20"
   ]
  },
  {
   "cell_type": "code",
   "execution_count": 89,
   "metadata": {},
   "outputs": [
    {
     "name": "stderr",
     "output_type": "stream",
     "text": [
      "  7%|█████████████▋                                                                                                                                                                                      | 84/1200 [00:00<00:09, 118.79it/s]"
     ]
    },
    {
     "name": "stdout",
     "output_type": "stream",
     "text": [
      "oid: 13590611 lack of SIGNED action.\n"
     ]
    },
    {
     "name": "stderr",
     "output_type": "stream",
     "text": [
      " 10%|███████████████████▌                                                                                                                                                                               | 120/1200 [00:01<00:09, 119.20it/s]"
     ]
    },
    {
     "name": "stdout",
     "output_type": "stream",
     "text": [
      "oid: 21543947 lack of SIGNED action.\n",
      "oid: 23380127 lack of SIGNED action.\n"
     ]
    },
    {
     "name": "stderr",
     "output_type": "stream",
     "text": [
      " 16%|███████████████████████████████▎                                                                                                                                                                   | 193/1200 [00:01<00:08, 118.83it/s]"
     ]
    },
    {
     "name": "stdout",
     "output_type": "stream",
     "text": [
      "oid: 36496979 lack of SIGNED action.\n",
      "oid: 40941574 lack of SIGNED action.\n"
     ]
    },
    {
     "name": "stderr",
     "output_type": "stream",
     "text": [
      " 21%|█████████████████████████████████████████                                                                                                                                                          | 253/1200 [00:02<00:07, 119.31it/s]"
     ]
    },
    {
     "name": "stdout",
     "output_type": "stream",
     "text": [
      "oid: 53055208 lack of SIGNED action.\n",
      "oid: 57864474 lack of SIGNED action.\n",
      "oid: 58358258 lack of SIGNED action.\n"
     ]
    },
    {
     "name": "stderr",
     "output_type": "stream",
     "text": [
      " 23%|█████████████████████████████████████████████                                                                                                                                                      | 277/1200 [00:02<00:07, 118.24it/s]"
     ]
    },
    {
     "name": "stdout",
     "output_type": "stream",
     "text": [
      "oid: 60421718 lack of SIGNED action.\n",
      "oid: 64587029 lack of SIGNED action.\n"
     ]
    },
    {
     "name": "stderr",
     "output_type": "stream",
     "text": [
      " 27%|████████████████████████████████████████████████████▊                                                                                                                                              | 325/1200 [00:02<00:07, 118.29it/s]"
     ]
    },
    {
     "name": "stdout",
     "output_type": "stream",
     "text": [
      "oid: 69796214 lack of SIGNED action.\n",
      "oid: 71073003 lack of SIGNED action.\n",
      "oid: 73464993 lack of SIGNED action.\n",
      "oid: 75187383 lack of SIGNED action.\n",
      "oid: 75275495 lack of SIGNED action.\n"
     ]
    },
    {
     "name": "stderr",
     "output_type": "stream",
     "text": [
      " 30%|██████████████████████████████████████████████████████████▋                                                                                                                                        | 361/1200 [00:03<00:07, 118.25it/s]"
     ]
    },
    {
     "name": "stdout",
     "output_type": "stream",
     "text": [
      "oid: 79501449 lack of SIGNED action.\n"
     ]
    },
    {
     "name": "stderr",
     "output_type": "stream",
     "text": [
      " 32%|██████████████████████████████████████████████████████████████▌                                                                                                                                    | 385/1200 [00:03<00:06, 118.50it/s]"
     ]
    },
    {
     "name": "stdout",
     "output_type": "stream",
     "text": [
      "oid: 87212988 lack of SIGNED action.\n",
      "oid: 88737691 lack of SIGNED action.\n",
      "oid: 89977560 lack of SIGNED action.\n"
     ]
    },
    {
     "name": "stderr",
     "output_type": "stream",
     "text": [
      " 34%|██████████████████████████████████████████████████████████████████▍                                                                                                                                | 409/1200 [00:03<00:06, 118.02it/s]"
     ]
    },
    {
     "name": "stdout",
     "output_type": "stream",
     "text": [
      "oid: 92664993 lack of SIGNED action.\n"
     ]
    },
    {
     "name": "stderr",
     "output_type": "stream",
     "text": [
      " 39%|████████████████████████████████████████████████████████████████████████████▍                                                                                                                      | 470/1200 [00:03<00:06, 118.44it/s]"
     ]
    },
    {
     "name": "stdout",
     "output_type": "stream",
     "text": [
      "oid: 105033960 lack of SIGNED action.\n",
      "oid: 109619257 lack of SIGNED action.\n"
     ]
    },
    {
     "name": "stderr",
     "output_type": "stream",
     "text": [
      " 42%|██████████████████████████████████████████████████████████████████████████████████▏                                                                                                                | 506/1200 [00:04<00:05, 118.40it/s]"
     ]
    },
    {
     "name": "stdout",
     "output_type": "stream",
     "text": [
      "oid: 111293160 lack of SIGNED action.\n",
      "oid: 111886721 lack of SIGNED action.\n",
      "oid: 116754248 lack of SIGNED action.\n"
     ]
    },
    {
     "name": "stderr",
     "output_type": "stream",
     "text": [
      " 44%|██████████████████████████████████████████████████████████████████████████████████████▏                                                                                                            | 530/1200 [00:04<00:05, 118.80it/s]"
     ]
    },
    {
     "name": "stdout",
     "output_type": "stream",
     "text": [
      "oid: 119395254 lack of SIGNED action.\n"
     ]
    },
    {
     "name": "stderr",
     "output_type": "stream",
     "text": [
      " 48%|█████████████████████████████████████████████████████████████████████████████████████████████▉                                                                                                     | 578/1200 [00:04<00:05, 119.22it/s]"
     ]
    },
    {
     "name": "stdout",
     "output_type": "stream",
     "text": [
      "oid: 130270620 lack of SIGNED action.\n",
      "oid: 133760277 lack of SIGNED action.\n",
      "oid: 134029454 lack of SIGNED action.\n",
      "oid: 134580424 lack of SIGNED action.\n"
     ]
    },
    {
     "name": "stderr",
     "output_type": "stream",
     "text": [
      " 51%|███████████████████████████████████████████████████████████████████████████████████████████████████▊                                                                                               | 614/1200 [00:05<00:04, 118.95it/s]"
     ]
    },
    {
     "name": "stdout",
     "output_type": "stream",
     "text": [
      "oid: 136511898 lack of SIGNED action.\n",
      "oid: 430715 lack of SIGNED action.\n"
     ]
    },
    {
     "name": "stderr",
     "output_type": "stream",
     "text": [
      " 59%|███████████████████████████████████████████████████████████████████████████████████████████████████████████████████▌                                                                               | 711/1200 [00:05<00:04, 118.84it/s]"
     ]
    },
    {
     "name": "stdout",
     "output_type": "stream",
     "text": [
      "oid: 23497442 lack of SIGNED action.\n"
     ]
    },
    {
     "name": "stderr",
     "output_type": "stream",
     "text": [
      " 67%|███████████████████████████████████████████████████████████████████████████████████████████████████████████████████████████████████▏                                                               | 807/1200 [00:06<00:03, 119.18it/s]"
     ]
    },
    {
     "name": "stdout",
     "output_type": "stream",
     "text": [
      "oid: 44293917 lack of SIGNED action.\n",
      "oid: 49719502 lack of SIGNED action.\n"
     ]
    },
    {
     "name": "stderr",
     "output_type": "stream",
     "text": [
      " 72%|█████████████████████████████████████████████████████████████████████████████████████████████████████████████████████████████████████████████▏                                                     | 869/1200 [00:07<00:02, 119.43it/s]"
     ]
    },
    {
     "name": "stdout",
     "output_type": "stream",
     "text": [
      "oid: 59513968 lack of SIGNED action.\n"
     ]
    },
    {
     "name": "stderr",
     "output_type": "stream",
     "text": [
      " 76%|█████████████████████████████████████████████████████████████████████████████████████████████████████████████████████████████████████████████████████                                              | 917/1200 [00:07<00:02, 118.64it/s]"
     ]
    },
    {
     "name": "stdout",
     "output_type": "stream",
     "text": [
      "oid: 73268046 lack of SIGNED action.\n"
     ]
    },
    {
     "name": "stderr",
     "output_type": "stream",
     "text": [
      " 85%|█████████████████████████████████████████████████████████████████████████████████████████████████████████████████████████████████████████████████████████████████████▋                            | 1025/1200 [00:08<00:01, 119.10it/s]"
     ]
    },
    {
     "name": "stdout",
     "output_type": "stream",
     "text": [
      "oid: 97083306 lack of SIGNED action.\n"
     ]
    },
    {
     "name": "stderr",
     "output_type": "stream",
     "text": [
      " 95%|████████████████████████████████████████████████████████████████████████████████████████████████████████████████████████████████████████████████████████████████████████████████████████▏         | 1139/1200 [00:09<00:00, 119.86it/s]"
     ]
    },
    {
     "name": "stdout",
     "output_type": "stream",
     "text": [
      "oid: 123635914 lack of SIGNED action.\n"
     ]
    },
    {
     "name": "stderr",
     "output_type": "stream",
     "text": [
      " 97%|████████████████████████████████████████████████████████████████████████████████████████████████████████████████████████████████████████████████████████████████████████████████████████████      | 1163/1200 [00:09<00:00, 118.89it/s]"
     ]
    },
    {
     "name": "stdout",
     "output_type": "stream",
     "text": [
      "oid: 128697419 lack of SIGNED action.\n"
     ]
    },
    {
     "name": "stderr",
     "output_type": "stream",
     "text": [
      "100%|██████████████████████████████████████████████████████████████████████████████████████████████████████████████████████████████████████████████████████████████████████████████████████████████████| 1200/1200 [00:10<00:00, 118.86it/s]\n"
     ]
    }
   ],
   "source": [
    "# start: CONSIGN\n",
    "# end: SIGNED\n",
    "\n",
    "# oids = np.concatenate([np.unique(random.sample(review1_oids.tolist(), 200)), \n",
    "#                        np.unique(random.sample(review2_oids.tolist(), 200)),\n",
    "#                        np.unique(random.sample(review3_oids.tolist(), 200)),\n",
    "#                        np.unique(random.sample(review4_oids.tolist(), 200)), \n",
    "#                        np.unique(random.sample(review5_oids.tolist(), 200))])\n",
    "\n",
    "# oids = np.concatenate([np.unique(random.sample(flag1_oids.tolist(), 200)), \n",
    "#                        np.unique(random.sample(flag0_oids.tolist(), 200))])\n",
    "\n",
    "oids = np.concatenate([np.unique(random.sample(review1_oids.tolist(), 600)), \n",
    "                       np.unique(random.sample(review5_oids.tolist(), 600))])\n",
    "\n",
    "percentile_actions_collect = []\n",
    "oid_invalid = []\n",
    "duration_cut = 14\n",
    "\n",
    "for oid in tqdm(oids):\n",
    "    \n",
    "    tmp = logistic[logistic['order_id']==oid].sort_values('timestamp')\n",
    "    order_time = tmp.pay_timestamp.values[0]\n",
    "    reviewscore = tmp.Logistics_review_score.values[0]\n",
    "    try:\n",
    "        end_time = tmp[tmp['action']=='SIGNED'].timestamp.values[0]\n",
    "    except:\n",
    "        print(f'oid: {oid} lack of SIGNED action.')\n",
    "        oid_invalid.append(oid)\n",
    "    \n",
    "    try:\n",
    "        start_time = tmp[tmp['action']=='CONSIGN'].timestamp.values[0]\n",
    "    except:\n",
    "        print(f'oid: {oid} lack of CONSIGN action.')\n",
    "        oid_invalid.append(oid)\n",
    "\n",
    "    \n",
    "    duration = dt.datetime.strptime(end_time, '%Y-%m-%d %H:%M:%S') - dt.datetime.strptime(order_time, '%Y-%m-%d %H:%M:%S')\n",
    "    percentile_times = []\n",
    "    for i in range(0, duration_cut+1):\n",
    "        tile = dt.datetime.strptime(order_time, '%Y-%m-%d %H:%M:%S') + ((duration/duration_cut)*i)\n",
    "        percentile_times.append(dt.datetime.strftime(tile, '%Y-%m-%d %H:%M:%S'))\n",
    "    \n",
    "    percentile_actions = [oid]\n",
    "#     percentile_actions.append('ORDERED')\n",
    "    \n",
    "    for j in range(0, duration_cut):\n",
    "        df_duration = tmp[(tmp['timestamp']>=percentile_times[j]) & (tmp['timestamp']<=percentile_times[j+1])]\n",
    "        \n",
    "        if len(df_duration) > 3:\n",
    "            percentile_actions.append('4+')\n",
    "        else:\n",
    "            percentile_actions.append(len(df_duration))            \n",
    "        \n",
    "#         if len(df_duration) > 0:\n",
    "#             if df_duration.action.values[-1] not in ['FAILURE','TRADE_SUCCESS']:\n",
    "#                 percentile_actions.append(df_duration.action.values[-1])\n",
    "#             else:\n",
    "#                 percentile_actions.append(percentile_actions[j+1])\n",
    "                \n",
    "#         else:\n",
    "#             if j==0:\n",
    "#                 percentile_actions.append('ORDERED')\n",
    "#             else:\n",
    "#                 percentile_actions.append(percentile_actions[j+1])\n",
    "\n",
    "    \n",
    "    percentile_actions.append(f'reviewscore_{reviewscore}')\n",
    "    if oid not in oid_invalid:\n",
    "        percentile_actions_collect.append(percentile_actions)\n",
    "    \n",
    "\n"
   ]
  },
  {
   "cell_type": "markdown",
   "metadata": {},
   "source": [
    "### 分不同的運送天數 & cut the duration into 5/10/20 durations\n",
    "- days: 1 - 10\n",
    "- trials: 3, 4, 5, 6, 7, 8, 9, 10, 14, 20\n"
   ]
  },
  {
   "cell_type": "code",
   "execution_count": 5,
   "metadata": {},
   "outputs": [
    {
     "name": "stderr",
     "output_type": "stream",
     "text": [
      "100%|████████████████████████████████████████████████████████████████████████████████████████████████████████████████████████████████████████████████████████████████████████████████████████████████| 50000/50000 [01:16<00:00, 650.06it/s]\n"
     ]
    },
    {
     "data": {
      "text/html": [
       "<div>\n",
       "<style scoped>\n",
       "    .dataframe tbody tr th:only-of-type {\n",
       "        vertical-align: middle;\n",
       "    }\n",
       "\n",
       "    .dataframe tbody tr th {\n",
       "        vertical-align: top;\n",
       "    }\n",
       "\n",
       "    .dataframe thead th {\n",
       "        text-align: right;\n",
       "    }\n",
       "</style>\n",
       "<table border=\"1\" class=\"dataframe\">\n",
       "  <thead>\n",
       "    <tr style=\"text-align: right;\">\n",
       "      <th></th>\n",
       "      <th>sent_duration</th>\n",
       "      <th>count</th>\n",
       "    </tr>\n",
       "  </thead>\n",
       "  <tbody>\n",
       "    <tr>\n",
       "      <th>0</th>\n",
       "      <td>0</td>\n",
       "      <td>1341</td>\n",
       "    </tr>\n",
       "    <tr>\n",
       "      <th>1</th>\n",
       "      <td>1</td>\n",
       "      <td>6244</td>\n",
       "    </tr>\n",
       "    <tr>\n",
       "      <th>2</th>\n",
       "      <td>10+</td>\n",
       "      <td>3499</td>\n",
       "    </tr>\n",
       "    <tr>\n",
       "      <th>3</th>\n",
       "      <td>2</td>\n",
       "      <td>9625</td>\n",
       "    </tr>\n",
       "    <tr>\n",
       "      <th>4</th>\n",
       "      <td>3</td>\n",
       "      <td>9425</td>\n",
       "    </tr>\n",
       "    <tr>\n",
       "      <th>5</th>\n",
       "      <td>4</td>\n",
       "      <td>7104</td>\n",
       "    </tr>\n",
       "    <tr>\n",
       "      <th>6</th>\n",
       "      <td>5</td>\n",
       "      <td>4630</td>\n",
       "    </tr>\n",
       "    <tr>\n",
       "      <th>7</th>\n",
       "      <td>6</td>\n",
       "      <td>3230</td>\n",
       "    </tr>\n",
       "    <tr>\n",
       "      <th>8</th>\n",
       "      <td>7</td>\n",
       "      <td>2235</td>\n",
       "    </tr>\n",
       "    <tr>\n",
       "      <th>9</th>\n",
       "      <td>8</td>\n",
       "      <td>1540</td>\n",
       "    </tr>\n",
       "    <tr>\n",
       "      <th>10</th>\n",
       "      <td>9</td>\n",
       "      <td>970</td>\n",
       "    </tr>\n",
       "  </tbody>\n",
       "</table>\n",
       "</div>"
      ],
      "text/plain": [
       "   sent_duration  count\n",
       "0              0   1341\n",
       "1              1   6244\n",
       "2            10+   3499\n",
       "3              2   9625\n",
       "4              3   9425\n",
       "5              4   7104\n",
       "6              5   4630\n",
       "7              6   3230\n",
       "8              7   2235\n",
       "9              8   1540\n",
       "10             9    970"
      ]
     },
     "execution_count": 5,
     "metadata": {},
     "output_type": "execute_result"
    },
    {
     "name": "stdout",
     "output_type": "stream",
     "text": [
      "(1341,)\n",
      "(6244,)\n",
      "(9625,)\n",
      "(9425,)\n",
      "(7104,)\n",
      "(4630,)\n",
      "(3230,)\n",
      "(2235,)\n",
      "(1540,)\n",
      "(970,)\n",
      "(3499,)\n"
     ]
    }
   ],
   "source": [
    "sent_times = []\n",
    "for oid in tqdm(logistic.order_id.unique()):\n",
    "    tmp = logistic[logistic['order_id']==oid]\n",
    "    reviewscore = tmp.Logistics_review_score.values[0]\n",
    "    try:\n",
    "        end_time = tmp[tmp['action']=='SIGNED'].timestamp.values[-1]\n",
    "    except:\n",
    "        pass\n",
    "    start_time = tmp.pay_timestamp.values[0]\n",
    "    duration = dt.datetime.strptime(end_time, '%Y-%m-%d %H:%M:%S') - dt.datetime.strptime(start_time, '%Y-%m-%d %H:%M:%S')\n",
    "    sent_times.append([oid, reviewscore, duration.days])\n",
    "\n",
    "df_sent_times = pd.DataFrame(sent_times, columns=['order_id','Logistics_review_score','sent_duration'])\n",
    "df_sent_times = df_sent_times[df_sent_times['sent_duration']>=0]\n",
    "df_sent_times['sent_duration'] = np.where(df_sent_times['sent_duration']>=10, '10+', df_sent_times['sent_duration'])\n",
    "df_sent_times.groupby(['sent_duration']).size().reset_index().rename(columns={0: 'count'})\n",
    "\n",
    "sent_duration_0day = df_sent_times[df_sent_times['sent_duration']=='0'].order_id.unique(); print(sent_duration_0day.shape)\n",
    "sent_duration_1day = df_sent_times[df_sent_times['sent_duration']=='1'].order_id.unique(); print(sent_duration_1day.shape)\n",
    "sent_duration_2day = df_sent_times[df_sent_times['sent_duration']=='2'].order_id.unique(); print(sent_duration_2day.shape)\n",
    "sent_duration_3day = df_sent_times[df_sent_times['sent_duration']=='3'].order_id.unique(); print(sent_duration_3day.shape)\n",
    "sent_duration_4day = df_sent_times[df_sent_times['sent_duration']=='4'].order_id.unique(); print(sent_duration_4day.shape)\n",
    "sent_duration_5day = df_sent_times[df_sent_times['sent_duration']=='5'].order_id.unique(); print(sent_duration_5day.shape)\n",
    "sent_duration_6day = df_sent_times[df_sent_times['sent_duration']=='6'].order_id.unique(); print(sent_duration_6day.shape)\n",
    "sent_duration_7day = df_sent_times[df_sent_times['sent_duration']=='7'].order_id.unique(); print(sent_duration_7day.shape)\n",
    "sent_duration_8day = df_sent_times[df_sent_times['sent_duration']=='8'].order_id.unique(); print(sent_duration_8day.shape)\n",
    "sent_duration_9day = df_sent_times[df_sent_times['sent_duration']=='9'].order_id.unique(); print(sent_duration_9day.shape)\n",
    "sent_duration_10dayup = df_sent_times[df_sent_times['sent_duration']=='10+'].order_id.unique(); print(sent_duration_10dayup.shape)\n",
    "\n"
   ]
  },
  {
   "cell_type": "code",
   "execution_count": 6,
   "metadata": {},
   "outputs": [
    {
     "data": {
      "text/plain": [
       "Logistics_review_score\n",
       "1.0    1753\n",
       "2.0    1170\n",
       "3.0    1532\n",
       "4.0    2206\n",
       "5.0    4260\n",
       "dtype: int64"
      ]
     },
     "execution_count": 6,
     "metadata": {},
     "output_type": "execute_result"
    }
   ],
   "source": [
    "logistic[logistic['order_id'].isin(sent_duration_0day)].groupby(['Logistics_review_score']).size()\n"
   ]
  },
  {
   "cell_type": "code",
   "execution_count": 47,
   "metadata": {},
   "outputs": [
    {
     "name": "stderr",
     "output_type": "stream",
     "text": [
      "  1%|██▌                                                                                                                                                                                                    | 9/708 [00:00<00:08, 80.48it/s]"
     ]
    },
    {
     "name": "stdout",
     "output_type": "stream",
     "text": [
      "(1227,)\n",
      "(354,)\n"
     ]
    },
    {
     "name": "stderr",
     "output_type": "stream",
     "text": [
      "  5%|█████████▌                                                                                                                                                                                            | 34/708 [00:00<00:08, 80.26it/s]"
     ]
    },
    {
     "name": "stdout",
     "output_type": "stream",
     "text": [
      "oid: 10590240 lack of SIGNED action.\n"
     ]
    },
    {
     "name": "stderr",
     "output_type": "stream",
     "text": [
      "  7%|██████████████▌                                                                                                                                                                                       | 52/708 [00:00<00:08, 80.72it/s]"
     ]
    },
    {
     "name": "stdout",
     "output_type": "stream",
     "text": [
      "oid: 18285864 lack of SIGNED action.\n"
     ]
    },
    {
     "name": "stderr",
     "output_type": "stream",
     "text": [
      " 11%|█████████████████████▊                                                                                                                                                                                | 78/708 [00:00<00:07, 80.67it/s]"
     ]
    },
    {
     "name": "stdout",
     "output_type": "stream",
     "text": [
      "oid: 29056797 lack of SIGNED action.\n",
      "oid: 29081962 lack of SIGNED action.\n",
      "oid: 32027763 lack of SIGNED action.\n"
     ]
    },
    {
     "name": "stderr",
     "output_type": "stream",
     "text": [
      " 13%|██████████████████████████▎                                                                                                                                                                           | 94/708 [00:01<00:07, 80.09it/s]"
     ]
    },
    {
     "name": "stdout",
     "output_type": "stream",
     "text": [
      "oid: 35203760 lack of SIGNED action.\n"
     ]
    },
    {
     "name": "stderr",
     "output_type": "stream",
     "text": [
      " 16%|███████████████████████████████▏                                                                                                                                                                     | 112/708 [00:01<00:07, 80.39it/s]"
     ]
    },
    {
     "name": "stdout",
     "output_type": "stream",
     "text": [
      "oid: 42101106 lack of SIGNED action.\n",
      "oid: 43267153 lack of SIGNED action.\n",
      "oid: 44910129 lack of SIGNED action.\n",
      "oid: 46041785 lack of SIGNED action.\n",
      "oid: 47428753 lack of SIGNED action.\n"
     ]
    },
    {
     "name": "stderr",
     "output_type": "stream",
     "text": [
      " 21%|█████████████████████████████████████████▏                                                                                                                                                           | 148/708 [00:01<00:06, 80.74it/s]"
     ]
    },
    {
     "name": "stdout",
     "output_type": "stream",
     "text": [
      "oid: 57401495 lack of SIGNED action.\n",
      "oid: 59318685 lack of SIGNED action.\n"
     ]
    },
    {
     "name": "stderr",
     "output_type": "stream",
     "text": [
      " 26%|███████████████████████████████████████████████████▏                                                                                                                                                 | 184/708 [00:02<00:06, 81.11it/s]"
     ]
    },
    {
     "name": "stdout",
     "output_type": "stream",
     "text": [
      "oid: 66883542 lack of SIGNED action.\n"
     ]
    },
    {
     "name": "stderr",
     "output_type": "stream",
     "text": [
      " 30%|██████████████████████████████████████████████████████████▋                                                                                                                                          | 211/708 [00:02<00:06, 81.10it/s]"
     ]
    },
    {
     "name": "stdout",
     "output_type": "stream",
     "text": [
      "oid: 78480829 lack of SIGNED action.\n"
     ]
    },
    {
     "name": "stderr",
     "output_type": "stream",
     "text": [
      " 36%|███████████████████████████████████████████████████████████████████████▏                                                                                                                             | 256/708 [00:03<00:05, 79.81it/s]"
     ]
    },
    {
     "name": "stdout",
     "output_type": "stream",
     "text": [
      "oid: 95497787 lack of SIGNED action.\n",
      "oid: 96655128 lack of SIGNED action.\n",
      "oid: 97485381 lack of SIGNED action.\n",
      "oid: 99870933 lack of SIGNED action.\n",
      "oid: 102100467 lack of SIGNED action.\n",
      "oid: 102612880 lack of SIGNED action.\n"
     ]
    },
    {
     "name": "stderr",
     "output_type": "stream",
     "text": [
      " 40%|██████████████████████████████████████████████████████████████████████████████▋                                                                                                                      | 283/708 [00:03<00:05, 80.66it/s]"
     ]
    },
    {
     "name": "stdout",
     "output_type": "stream",
     "text": [
      "oid: 105530399 lack of SIGNED action.\n"
     ]
    },
    {
     "name": "stderr",
     "output_type": "stream",
     "text": [
      " 45%|████████████████████████████████████████████████████████████████████████████████████████▊                                                                                                            | 319/708 [00:03<00:04, 81.07it/s]"
     ]
    },
    {
     "name": "stdout",
     "output_type": "stream",
     "text": [
      "oid: 121611663 lack of SIGNED action.\n",
      "oid: 122375838 lack of SIGNED action.\n",
      "oid: 123908239 lack of SIGNED action.\n",
      "oid: 126694434 lack of SIGNED action.\n"
     ]
    },
    {
     "name": "stderr",
     "output_type": "stream",
     "text": [
      " 48%|█████████████████████████████████████████████████████████████████████████████████████████████▊                                                                                                       | 337/708 [00:04<00:04, 80.54it/s]"
     ]
    },
    {
     "name": "stdout",
     "output_type": "stream",
     "text": [
      "oid: 128138974 lack of SIGNED action.\n"
     ]
    },
    {
     "name": "stderr",
     "output_type": "stream",
     "text": [
      " 51%|█████████████████████████████████████████████████████████████████████████████████████████████████████▎                                                                                               | 364/708 [00:04<00:04, 80.94it/s]"
     ]
    },
    {
     "name": "stdout",
     "output_type": "stream",
     "text": [
      "oid: 136714912 lack of SIGNED action.\n",
      "oid: 1117591 lack of SIGNED action.\n"
     ]
    },
    {
     "name": "stderr",
     "output_type": "stream",
     "text": [
      " 55%|████████████████████████████████████████████████████████████████████████████████████████████████████████████▊                                                                                        | 391/708 [00:04<00:03, 81.32it/s]"
     ]
    },
    {
     "name": "stdout",
     "output_type": "stream",
     "text": [
      "oid: 6880842 lack of SIGNED action.\n"
     ]
    },
    {
     "name": "stderr",
     "output_type": "stream",
     "text": [
      " 58%|█████████████████████████████████████████████████████████████████████████████████████████████████████████████████▊                                                                                   | 409/708 [00:05<00:03, 80.82it/s]"
     ]
    },
    {
     "name": "stdout",
     "output_type": "stream",
     "text": [
      "oid: 15031623 lack of SIGNED action.\n",
      "oid: 15039342 lack of SIGNED action.\n",
      "oid: 16443835 lack of SIGNED action.\n"
     ]
    },
    {
     "name": "stderr",
     "output_type": "stream",
     "text": [
      " 63%|███████████████████████████████████████████████████████████████████████████████████████████████████████████████████████████▊                                                                         | 445/708 [00:05<00:03, 81.30it/s]"
     ]
    },
    {
     "name": "stdout",
     "output_type": "stream",
     "text": [
      "oid: 29189073 lack of SIGNED action.\n",
      "oid: 32511861 lack of SIGNED action.\n",
      "oid: 33575463 lack of SIGNED action.\n"
     ]
    },
    {
     "name": "stderr",
     "output_type": "stream",
     "text": [
      " 67%|███████████████████████████████████████████████████████████████████████████████████████████████████████████████████████████████████▎                                                                 | 472/708 [00:05<00:02, 81.18it/s]"
     ]
    },
    {
     "name": "stdout",
     "output_type": "stream",
     "text": [
      "oid: 41631320 lack of SIGNED action.\n"
     ]
    },
    {
     "name": "stderr",
     "output_type": "stream",
     "text": [
      " 69%|████████████████████████████████████████████████████████████████████████████████████████████████████████████████████████████████████████▎                                                            | 490/708 [00:06<00:02, 80.97it/s]"
     ]
    },
    {
     "name": "stdout",
     "output_type": "stream",
     "text": [
      "oid: 47673511 lack of SIGNED action.\n",
      "oid: 49022090 lack of SIGNED action.\n"
     ]
    },
    {
     "name": "stderr",
     "output_type": "stream",
     "text": [
      " 73%|███████████████████████████████████████████████████████████████████████████████████████████████████████████████████████████████████████████████▊                                                     | 517/708 [00:06<00:02, 80.98it/s]"
     ]
    },
    {
     "name": "stdout",
     "output_type": "stream",
     "text": [
      "oid: 59211080 lack of SIGNED action.\n",
      "oid: 60090582 lack of SIGNED action.\n",
      "oid: 62655644 lack of SIGNED action.\n",
      "oid: 63847647 lack of SIGNED action.\n"
     ]
    },
    {
     "name": "stderr",
     "output_type": "stream",
     "text": [
      "\r",
      " 74%|██████████████████████████████████████████████████████████████████████████████████████████████████████████████████████████████████████████████████▎                                                  | 526/708 [00:06<00:02, 80.84it/s]"
     ]
    },
    {
     "name": "stdout",
     "output_type": "stream",
     "text": [
      "oid: 64561747 lack of SIGNED action.\n",
      "oid: 64571123 lack of SIGNED action.\n",
      "oid: 64767302 lack of SIGNED action.\n",
      "oid: 67743986 lack of SIGNED action.\n",
      "oid: 68428078 lack of SIGNED action.\n"
     ]
    },
    {
     "name": "stderr",
     "output_type": "stream",
     "text": [
      " 78%|█████████████████████████████████████████████████████████████████████████████████████████████████████████████████████████████████████████████████████████▊                                           | 553/708 [00:06<00:01, 81.11it/s]"
     ]
    },
    {
     "name": "stdout",
     "output_type": "stream",
     "text": [
      "oid: 73611622 lack of SIGNED action.\n",
      "oid: 76839577 lack of SIGNED action.\n",
      "oid: 79128167 lack of SIGNED action.\n",
      "oid: 79660165 lack of SIGNED action.\n"
     ]
    },
    {
     "name": "stderr",
     "output_type": "stream",
     "text": [
      " 82%|█████████████████████████████████████████████████████████████████████████████████████████████████████████████████████████████████████████████████████████████████▍                                   | 580/708 [00:07<00:01, 81.02it/s]"
     ]
    },
    {
     "name": "stdout",
     "output_type": "stream",
     "text": [
      "oid: 84927322 lack of SIGNED action.\n",
      "oid: 89614175 lack of SIGNED action.\n",
      "oid: 89713037 lack of SIGNED action.\n"
     ]
    },
    {
     "name": "stderr",
     "output_type": "stream",
     "text": [
      " 87%|███████████████████████████████████████████████████████████████████████████████████████████████████████████████████████████████████████████████████████████████████████████▍                         | 616/708 [00:07<00:01, 81.33it/s]"
     ]
    },
    {
     "name": "stdout",
     "output_type": "stream",
     "text": [
      "oid: 99271876 lack of SIGNED action.\n",
      "oid: 99436944 lack of SIGNED action.\n",
      "oid: 103569234 lack of SIGNED action.\n"
     ]
    },
    {
     "name": "stderr",
     "output_type": "stream",
     "text": [
      " 91%|██████████████████████████████████████████████████████████████████████████████████████████████████████████████████████████████████████████████████████████████████████████████████▉                  | 643/708 [00:07<00:00, 81.34it/s]"
     ]
    },
    {
     "name": "stdout",
     "output_type": "stream",
     "text": [
      "oid: 108451116 lack of SIGNED action.\n",
      "oid: 109182331 lack of SIGNED action.\n",
      "oid: 117526812 lack of SIGNED action.\n"
     ]
    },
    {
     "name": "stderr",
     "output_type": "stream",
     "text": [
      " 93%|███████████████████████████████████████████████████████████████████████████████████████████████████████████████████████████████████████████████████████████████████████████████████████▉             | 661/708 [00:08<00:00, 81.20it/s]"
     ]
    },
    {
     "name": "stdout",
     "output_type": "stream",
     "text": [
      "oid: 118131695 lack of SIGNED action.\n",
      "oid: 121925359 lack of SIGNED action.\n"
     ]
    },
    {
     "name": "stderr",
     "output_type": "stream",
     "text": [
      " 96%|████████████████████████████████████████████████████████████████████████████████████████████████████████████████████████████████████████████████████████████████████████████████████████████▉        | 679/708 [00:08<00:00, 81.06it/s]"
     ]
    },
    {
     "name": "stdout",
     "output_type": "stream",
     "text": [
      "oid: 124896429 lack of SIGNED action.\n",
      "oid: 125222117 lack of SIGNED action.\n"
     ]
    },
    {
     "name": "stderr",
     "output_type": "stream",
     "text": [
      "100%|█████████████████████████████████████████████████████████████████████████████████████████████████████████████████████████████████████████████████████████████████████████████████████████████████████| 708/708 [00:08<00:00, 80.85it/s]"
     ]
    },
    {
     "name": "stdout",
     "output_type": "stream",
     "text": [
      "oid: 134620079 lack of SIGNED action.\n",
      "oid: 137079200 lack of SIGNED action.\n"
     ]
    },
    {
     "name": "stderr",
     "output_type": "stream",
     "text": [
      "\n"
     ]
    }
   ],
   "source": [
    "# start: CONSIGN\n",
    "# end: SIGNED\n",
    "day_num = 10\n",
    "sent_duration_xday = sent_duration_10dayup\n",
    "review1_oids = logistic[(logistic['order_id'].isin(sent_duration_xday)) & (logistic['Logistics_review_score']==1)].order_id.unique()\n",
    "review5_oids = logistic[(logistic['order_id'].isin(sent_duration_xday)) & (logistic['Logistics_review_score']==5)].order_id.unique()\n",
    "print(review1_oids.shape); print(review5_oids.shape)\n",
    "\n",
    "oids = np.concatenate([np.unique(random.sample(review1_oids.tolist(), min(len(review1_oids), len(review5_oids)))), \n",
    "                       np.unique(random.sample(review5_oids.tolist(), min(len(review1_oids), len(review5_oids))))])\n",
    "\n",
    "percentile_actions_collect = []\n",
    "oid_invalid = []\n",
    "duration_cut = 20\n",
    "\n",
    "for oid in tqdm(oids):\n",
    "    \n",
    "    tmp = logistic[logistic['order_id']==oid].sort_values('timestamp')\n",
    "#     print(df_sent_times[df_sent_times['order_id']==oid].sent_duration.values[0])\n",
    "    order_time = tmp.pay_timestamp.values[0]\n",
    "    reviewscore = tmp.Logistics_review_score.values[0]\n",
    "    try:\n",
    "        end_time = tmp[tmp['action']=='SIGNED'].timestamp.values[-1]\n",
    "    except:\n",
    "        print(f'oid: {oid} lack of SIGNED action.')\n",
    "        oid_invalid.append(oid)\n",
    "    \n",
    "    try:\n",
    "        start_time = tmp[tmp['action']=='CONSIGN'].timestamp.values[0]\n",
    "    except:\n",
    "        print(f'oid: {oid} lack of CONSIGN action.')\n",
    "        oid_invalid.append(oid)\n",
    "\n",
    "\n",
    "    duration = dt.datetime.strptime(end_time, '%Y-%m-%d %H:%M:%S') - dt.datetime.strptime(order_time, '%Y-%m-%d %H:%M:%S')\n",
    "    percentile_times = []\n",
    "    for i in range(0, duration_cut+1):\n",
    "        tile = dt.datetime.strptime(order_time, '%Y-%m-%d %H:%M:%S') + ((duration/duration_cut)*i)\n",
    "        percentile_times.append(dt.datetime.strftime(tile, '%Y-%m-%d %H:%M:%S'))\n",
    "    \n",
    "    percentile_actions = [oid]\n",
    "    \n",
    "    for j in range(0, duration_cut):\n",
    "        df_duration = tmp[(tmp['timestamp']>=percentile_times[j]) & (tmp['timestamp']<=percentile_times[j+1])]\n",
    "        \n",
    "        if len(df_duration) > 3:\n",
    "            percentile_actions.append('4+')\n",
    "        else:\n",
    "            percentile_actions.append(len(df_duration))            \n",
    "\n",
    "    \n",
    "    percentile_actions.append(f'reviewscore_{reviewscore}')\n",
    "    if oid not in oid_invalid:\n",
    "        percentile_actions_collect.append(percentile_actions)\n",
    "    \n",
    "\n"
   ]
  },
  {
   "cell_type": "code",
   "execution_count": 48,
   "metadata": {
    "scrolled": true
   },
   "outputs": [
    {
     "data": {
      "text/html": [
       "<div>\n",
       "<style scoped>\n",
       "    .dataframe tbody tr th:only-of-type {\n",
       "        vertical-align: middle;\n",
       "    }\n",
       "\n",
       "    .dataframe tbody tr th {\n",
       "        vertical-align: top;\n",
       "    }\n",
       "\n",
       "    .dataframe thead th {\n",
       "        text-align: right;\n",
       "    }\n",
       "</style>\n",
       "<table border=\"1\" class=\"dataframe\">\n",
       "  <thead>\n",
       "    <tr style=\"text-align: right;\">\n",
       "      <th></th>\n",
       "      <th>0</th>\n",
       "      <th>1</th>\n",
       "      <th>2</th>\n",
       "      <th>3</th>\n",
       "      <th>4</th>\n",
       "      <th>5</th>\n",
       "      <th>6</th>\n",
       "      <th>7</th>\n",
       "      <th>8</th>\n",
       "      <th>9</th>\n",
       "      <th>10</th>\n",
       "      <th>11</th>\n",
       "      <th>12</th>\n",
       "      <th>13</th>\n",
       "      <th>14</th>\n",
       "      <th>15</th>\n",
       "      <th>16</th>\n",
       "      <th>17</th>\n",
       "      <th>18</th>\n",
       "      <th>19</th>\n",
       "      <th>20</th>\n",
       "      <th>21</th>\n",
       "    </tr>\n",
       "  </thead>\n",
       "  <tbody>\n",
       "    <tr>\n",
       "      <th>0</th>\n",
       "      <td>206193</td>\n",
       "      <td>3</td>\n",
       "      <td>1</td>\n",
       "      <td>1</td>\n",
       "      <td>1</td>\n",
       "      <td>0</td>\n",
       "      <td>1</td>\n",
       "      <td>0</td>\n",
       "      <td>0</td>\n",
       "      <td>2</td>\n",
       "      <td>0</td>\n",
       "      <td>1</td>\n",
       "      <td>1</td>\n",
       "      <td>0</td>\n",
       "      <td>1</td>\n",
       "      <td>0</td>\n",
       "      <td>0</td>\n",
       "      <td>0</td>\n",
       "      <td>0</td>\n",
       "      <td>4+</td>\n",
       "      <td>4+</td>\n",
       "      <td>reviewscore_1.0</td>\n",
       "    </tr>\n",
       "    <tr>\n",
       "      <th>1</th>\n",
       "      <td>1613272</td>\n",
       "      <td>1</td>\n",
       "      <td>3</td>\n",
       "      <td>0</td>\n",
       "      <td>1</td>\n",
       "      <td>1</td>\n",
       "      <td>0</td>\n",
       "      <td>0</td>\n",
       "      <td>0</td>\n",
       "      <td>0</td>\n",
       "      <td>1</td>\n",
       "      <td>1</td>\n",
       "      <td>0</td>\n",
       "      <td>0</td>\n",
       "      <td>0</td>\n",
       "      <td>0</td>\n",
       "      <td>0</td>\n",
       "      <td>0</td>\n",
       "      <td>0</td>\n",
       "      <td>0</td>\n",
       "      <td>3</td>\n",
       "      <td>reviewscore_1.0</td>\n",
       "    </tr>\n",
       "    <tr>\n",
       "      <th>2</th>\n",
       "      <td>1644289</td>\n",
       "      <td>0</td>\n",
       "      <td>0</td>\n",
       "      <td>0</td>\n",
       "      <td>0</td>\n",
       "      <td>0</td>\n",
       "      <td>0</td>\n",
       "      <td>0</td>\n",
       "      <td>0</td>\n",
       "      <td>0</td>\n",
       "      <td>0</td>\n",
       "      <td>0</td>\n",
       "      <td>0</td>\n",
       "      <td>0</td>\n",
       "      <td>0</td>\n",
       "      <td>2</td>\n",
       "      <td>2</td>\n",
       "      <td>0</td>\n",
       "      <td>0</td>\n",
       "      <td>2</td>\n",
       "      <td>3</td>\n",
       "      <td>reviewscore_1.0</td>\n",
       "    </tr>\n",
       "    <tr>\n",
       "      <th>3</th>\n",
       "      <td>1762777</td>\n",
       "      <td>0</td>\n",
       "      <td>1</td>\n",
       "      <td>0</td>\n",
       "      <td>0</td>\n",
       "      <td>2</td>\n",
       "      <td>0</td>\n",
       "      <td>0</td>\n",
       "      <td>0</td>\n",
       "      <td>0</td>\n",
       "      <td>0</td>\n",
       "      <td>0</td>\n",
       "      <td>0</td>\n",
       "      <td>0</td>\n",
       "      <td>0</td>\n",
       "      <td>1</td>\n",
       "      <td>0</td>\n",
       "      <td>2</td>\n",
       "      <td>1</td>\n",
       "      <td>3</td>\n",
       "      <td>4+</td>\n",
       "      <td>reviewscore_1.0</td>\n",
       "    </tr>\n",
       "    <tr>\n",
       "      <th>4</th>\n",
       "      <td>2410834</td>\n",
       "      <td>0</td>\n",
       "      <td>1</td>\n",
       "      <td>3</td>\n",
       "      <td>0</td>\n",
       "      <td>1</td>\n",
       "      <td>1</td>\n",
       "      <td>1</td>\n",
       "      <td>4+</td>\n",
       "      <td>1</td>\n",
       "      <td>0</td>\n",
       "      <td>0</td>\n",
       "      <td>0</td>\n",
       "      <td>0</td>\n",
       "      <td>0</td>\n",
       "      <td>0</td>\n",
       "      <td>0</td>\n",
       "      <td>0</td>\n",
       "      <td>0</td>\n",
       "      <td>0</td>\n",
       "      <td>2</td>\n",
       "      <td>reviewscore_1.0</td>\n",
       "    </tr>\n",
       "    <tr>\n",
       "      <th>...</th>\n",
       "      <td>...</td>\n",
       "      <td>...</td>\n",
       "      <td>...</td>\n",
       "      <td>...</td>\n",
       "      <td>...</td>\n",
       "      <td>...</td>\n",
       "      <td>...</td>\n",
       "      <td>...</td>\n",
       "      <td>...</td>\n",
       "      <td>...</td>\n",
       "      <td>...</td>\n",
       "      <td>...</td>\n",
       "      <td>...</td>\n",
       "      <td>...</td>\n",
       "      <td>...</td>\n",
       "      <td>...</td>\n",
       "      <td>...</td>\n",
       "      <td>...</td>\n",
       "      <td>...</td>\n",
       "      <td>...</td>\n",
       "      <td>...</td>\n",
       "      <td>...</td>\n",
       "    </tr>\n",
       "    <tr>\n",
       "      <th>636</th>\n",
       "      <td>135228232</td>\n",
       "      <td>0</td>\n",
       "      <td>0</td>\n",
       "      <td>0</td>\n",
       "      <td>0</td>\n",
       "      <td>0</td>\n",
       "      <td>0</td>\n",
       "      <td>0</td>\n",
       "      <td>0</td>\n",
       "      <td>0</td>\n",
       "      <td>0</td>\n",
       "      <td>0</td>\n",
       "      <td>0</td>\n",
       "      <td>0</td>\n",
       "      <td>0</td>\n",
       "      <td>1</td>\n",
       "      <td>4+</td>\n",
       "      <td>0</td>\n",
       "      <td>1</td>\n",
       "      <td>0</td>\n",
       "      <td>4+</td>\n",
       "      <td>reviewscore_5.0</td>\n",
       "    </tr>\n",
       "    <tr>\n",
       "      <th>637</th>\n",
       "      <td>136501500</td>\n",
       "      <td>0</td>\n",
       "      <td>0</td>\n",
       "      <td>0</td>\n",
       "      <td>0</td>\n",
       "      <td>0</td>\n",
       "      <td>0</td>\n",
       "      <td>0</td>\n",
       "      <td>0</td>\n",
       "      <td>1</td>\n",
       "      <td>0</td>\n",
       "      <td>0</td>\n",
       "      <td>0</td>\n",
       "      <td>3</td>\n",
       "      <td>1</td>\n",
       "      <td>1</td>\n",
       "      <td>0</td>\n",
       "      <td>3</td>\n",
       "      <td>0</td>\n",
       "      <td>2</td>\n",
       "      <td>3</td>\n",
       "      <td>reviewscore_5.0</td>\n",
       "    </tr>\n",
       "    <tr>\n",
       "      <th>638</th>\n",
       "      <td>136539419</td>\n",
       "      <td>0</td>\n",
       "      <td>0</td>\n",
       "      <td>0</td>\n",
       "      <td>0</td>\n",
       "      <td>0</td>\n",
       "      <td>0</td>\n",
       "      <td>0</td>\n",
       "      <td>0</td>\n",
       "      <td>0</td>\n",
       "      <td>0</td>\n",
       "      <td>0</td>\n",
       "      <td>0</td>\n",
       "      <td>2</td>\n",
       "      <td>4+</td>\n",
       "      <td>0</td>\n",
       "      <td>1</td>\n",
       "      <td>0</td>\n",
       "      <td>2</td>\n",
       "      <td>1</td>\n",
       "      <td>1</td>\n",
       "      <td>reviewscore_5.0</td>\n",
       "    </tr>\n",
       "    <tr>\n",
       "      <th>639</th>\n",
       "      <td>136807186</td>\n",
       "      <td>0</td>\n",
       "      <td>0</td>\n",
       "      <td>0</td>\n",
       "      <td>0</td>\n",
       "      <td>0</td>\n",
       "      <td>0</td>\n",
       "      <td>0</td>\n",
       "      <td>0</td>\n",
       "      <td>0</td>\n",
       "      <td>0</td>\n",
       "      <td>0</td>\n",
       "      <td>0</td>\n",
       "      <td>0</td>\n",
       "      <td>1</td>\n",
       "      <td>0</td>\n",
       "      <td>0</td>\n",
       "      <td>0</td>\n",
       "      <td>4+</td>\n",
       "      <td>0</td>\n",
       "      <td>4+</td>\n",
       "      <td>reviewscore_5.0</td>\n",
       "    </tr>\n",
       "    <tr>\n",
       "      <th>640</th>\n",
       "      <td>136872442</td>\n",
       "      <td>4+</td>\n",
       "      <td>2</td>\n",
       "      <td>2</td>\n",
       "      <td>1</td>\n",
       "      <td>0</td>\n",
       "      <td>0</td>\n",
       "      <td>0</td>\n",
       "      <td>0</td>\n",
       "      <td>0</td>\n",
       "      <td>0</td>\n",
       "      <td>0</td>\n",
       "      <td>0</td>\n",
       "      <td>0</td>\n",
       "      <td>0</td>\n",
       "      <td>0</td>\n",
       "      <td>0</td>\n",
       "      <td>0</td>\n",
       "      <td>0</td>\n",
       "      <td>0</td>\n",
       "      <td>3</td>\n",
       "      <td>reviewscore_5.0</td>\n",
       "    </tr>\n",
       "  </tbody>\n",
       "</table>\n",
       "<p>641 rows × 22 columns</p>\n",
       "</div>"
      ],
      "text/plain": [
       "            0   1  2  3  4  5  6  7   8  9  10 11 12 13  14 15  16 17  18  19  \\\n",
       "0       206193   3  1  1  1  0  1  0   0  2  0  1  1  0   1  0   0  0   0  4+   \n",
       "1      1613272   1  3  0  1  1  0  0   0  0  1  1  0  0   0  0   0  0   0   0   \n",
       "2      1644289   0  0  0  0  0  0  0   0  0  0  0  0  0   0  2   2  0   0   2   \n",
       "3      1762777   0  1  0  0  2  0  0   0  0  0  0  0  0   0  1   0  2   1   3   \n",
       "4      2410834   0  1  3  0  1  1  1  4+  1  0  0  0  0   0  0   0  0   0   0   \n",
       "..         ...  .. .. .. .. .. .. ..  .. .. .. .. .. ..  .. ..  .. ..  ..  ..   \n",
       "636  135228232   0  0  0  0  0  0  0   0  0  0  0  0  0   0  1  4+  0   1   0   \n",
       "637  136501500   0  0  0  0  0  0  0   0  1  0  0  0  3   1  1   0  3   0   2   \n",
       "638  136539419   0  0  0  0  0  0  0   0  0  0  0  0  2  4+  0   1  0   2   1   \n",
       "639  136807186   0  0  0  0  0  0  0   0  0  0  0  0  0   1  0   0  0  4+   0   \n",
       "640  136872442  4+  2  2  1  0  0  0   0  0  0  0  0  0   0  0   0  0   0   0   \n",
       "\n",
       "     20               21  \n",
       "0    4+  reviewscore_1.0  \n",
       "1     3  reviewscore_1.0  \n",
       "2     3  reviewscore_1.0  \n",
       "3    4+  reviewscore_1.0  \n",
       "4     2  reviewscore_1.0  \n",
       "..   ..              ...  \n",
       "636  4+  reviewscore_5.0  \n",
       "637   3  reviewscore_5.0  \n",
       "638   1  reviewscore_5.0  \n",
       "639  4+  reviewscore_5.0  \n",
       "640   3  reviewscore_5.0  \n",
       "\n",
       "[641 rows x 22 columns]"
      ]
     },
     "execution_count": 48,
     "metadata": {},
     "output_type": "execute_result"
    }
   ],
   "source": [
    "# percentile_actions_collect[0]\n",
    "# actions_collect[0]\n",
    "pd.DataFrame(percentile_actions_collect)\n",
    "# pd.DataFrame(actions_collect).head()\n"
   ]
  },
  {
   "cell_type": "markdown",
   "metadata": {},
   "source": [
    "#### versions\n",
    "- v7: 只抽1分, 5分，固定區間數量，用區間內的action數作為state\n",
    "- v8.0: 分不同運送總天數 (0天內送達，從下單到SIGNED)\n",
    "- v8.1: 分不同運送總天數 (1天內送達) \n",
    "~ \n",
    "- v8.10 以此類推\n",
    "\n"
   ]
  },
  {
   "cell_type": "code",
   "execution_count": 49,
   "metadata": {},
   "outputs": [
    {
     "data": {
      "text/plain": [
       "review_score\n",
       "reviewscore_1.0    326\n",
       "reviewscore_5.0    315\n",
       "dtype: int64"
      ]
     },
     "execution_count": 49,
     "metadata": {},
     "output_type": "execute_result"
    },
    {
     "data": {
      "text/plain": [
       "(641, 22)"
      ]
     },
     "execution_count": 49,
     "metadata": {},
     "output_type": "execute_result"
    },
    {
     "data": {
      "text/html": [
       "<div>\n",
       "<style scoped>\n",
       "    .dataframe tbody tr th:only-of-type {\n",
       "        vertical-align: middle;\n",
       "    }\n",
       "\n",
       "    .dataframe tbody tr th {\n",
       "        vertical-align: top;\n",
       "    }\n",
       "\n",
       "    .dataframe thead th {\n",
       "        text-align: right;\n",
       "    }\n",
       "</style>\n",
       "<table border=\"1\" class=\"dataframe\">\n",
       "  <thead>\n",
       "    <tr style=\"text-align: right;\">\n",
       "      <th></th>\n",
       "      <th>order_id</th>\n",
       "      <th>percentile_0th</th>\n",
       "      <th>percentile_1th</th>\n",
       "      <th>percentile_2th</th>\n",
       "      <th>percentile_3th</th>\n",
       "      <th>percentile_4th</th>\n",
       "      <th>percentile_5th</th>\n",
       "      <th>percentile_6th</th>\n",
       "      <th>percentile_7th</th>\n",
       "      <th>percentile_8th</th>\n",
       "      <th>percentile_9th</th>\n",
       "      <th>percentile_10th</th>\n",
       "      <th>percentile_11th</th>\n",
       "      <th>percentile_12th</th>\n",
       "      <th>percentile_13th</th>\n",
       "      <th>percentile_14th</th>\n",
       "      <th>percentile_15th</th>\n",
       "      <th>percentile_16th</th>\n",
       "      <th>percentile_17th</th>\n",
       "      <th>percentile_18th</th>\n",
       "      <th>percentile_19th</th>\n",
       "      <th>review_score</th>\n",
       "    </tr>\n",
       "  </thead>\n",
       "  <tbody>\n",
       "    <tr>\n",
       "      <th>0</th>\n",
       "      <td>206193</td>\n",
       "      <td>3</td>\n",
       "      <td>1</td>\n",
       "      <td>1</td>\n",
       "      <td>1</td>\n",
       "      <td>0</td>\n",
       "      <td>1</td>\n",
       "      <td>0</td>\n",
       "      <td>0</td>\n",
       "      <td>2</td>\n",
       "      <td>0</td>\n",
       "      <td>1</td>\n",
       "      <td>1</td>\n",
       "      <td>0</td>\n",
       "      <td>1</td>\n",
       "      <td>0</td>\n",
       "      <td>0</td>\n",
       "      <td>0</td>\n",
       "      <td>0</td>\n",
       "      <td>4+</td>\n",
       "      <td>4+</td>\n",
       "      <td>reviewscore_1.0</td>\n",
       "    </tr>\n",
       "    <tr>\n",
       "      <th>1</th>\n",
       "      <td>1613272</td>\n",
       "      <td>1</td>\n",
       "      <td>3</td>\n",
       "      <td>0</td>\n",
       "      <td>1</td>\n",
       "      <td>1</td>\n",
       "      <td>0</td>\n",
       "      <td>0</td>\n",
       "      <td>0</td>\n",
       "      <td>0</td>\n",
       "      <td>1</td>\n",
       "      <td>1</td>\n",
       "      <td>0</td>\n",
       "      <td>0</td>\n",
       "      <td>0</td>\n",
       "      <td>0</td>\n",
       "      <td>0</td>\n",
       "      <td>0</td>\n",
       "      <td>0</td>\n",
       "      <td>0</td>\n",
       "      <td>3</td>\n",
       "      <td>reviewscore_1.0</td>\n",
       "    </tr>\n",
       "    <tr>\n",
       "      <th>2</th>\n",
       "      <td>1644289</td>\n",
       "      <td>0</td>\n",
       "      <td>0</td>\n",
       "      <td>0</td>\n",
       "      <td>0</td>\n",
       "      <td>0</td>\n",
       "      <td>0</td>\n",
       "      <td>0</td>\n",
       "      <td>0</td>\n",
       "      <td>0</td>\n",
       "      <td>0</td>\n",
       "      <td>0</td>\n",
       "      <td>0</td>\n",
       "      <td>0</td>\n",
       "      <td>0</td>\n",
       "      <td>2</td>\n",
       "      <td>2</td>\n",
       "      <td>0</td>\n",
       "      <td>0</td>\n",
       "      <td>2</td>\n",
       "      <td>3</td>\n",
       "      <td>reviewscore_1.0</td>\n",
       "    </tr>\n",
       "    <tr>\n",
       "      <th>3</th>\n",
       "      <td>1762777</td>\n",
       "      <td>0</td>\n",
       "      <td>1</td>\n",
       "      <td>0</td>\n",
       "      <td>0</td>\n",
       "      <td>2</td>\n",
       "      <td>0</td>\n",
       "      <td>0</td>\n",
       "      <td>0</td>\n",
       "      <td>0</td>\n",
       "      <td>0</td>\n",
       "      <td>0</td>\n",
       "      <td>0</td>\n",
       "      <td>0</td>\n",
       "      <td>0</td>\n",
       "      <td>1</td>\n",
       "      <td>0</td>\n",
       "      <td>2</td>\n",
       "      <td>1</td>\n",
       "      <td>3</td>\n",
       "      <td>4+</td>\n",
       "      <td>reviewscore_1.0</td>\n",
       "    </tr>\n",
       "    <tr>\n",
       "      <th>4</th>\n",
       "      <td>2410834</td>\n",
       "      <td>0</td>\n",
       "      <td>1</td>\n",
       "      <td>3</td>\n",
       "      <td>0</td>\n",
       "      <td>1</td>\n",
       "      <td>1</td>\n",
       "      <td>1</td>\n",
       "      <td>4+</td>\n",
       "      <td>1</td>\n",
       "      <td>0</td>\n",
       "      <td>0</td>\n",
       "      <td>0</td>\n",
       "      <td>0</td>\n",
       "      <td>0</td>\n",
       "      <td>0</td>\n",
       "      <td>0</td>\n",
       "      <td>0</td>\n",
       "      <td>0</td>\n",
       "      <td>0</td>\n",
       "      <td>2</td>\n",
       "      <td>reviewscore_1.0</td>\n",
       "    </tr>\n",
       "  </tbody>\n",
       "</table>\n",
       "</div>"
      ],
      "text/plain": [
       "   order_id percentile_0th percentile_1th percentile_2th percentile_3th  \\\n",
       "0    206193              3              1              1              1   \n",
       "1   1613272              1              3              0              1   \n",
       "2   1644289              0              0              0              0   \n",
       "3   1762777              0              1              0              0   \n",
       "4   2410834              0              1              3              0   \n",
       "\n",
       "  percentile_4th percentile_5th percentile_6th percentile_7th percentile_8th  \\\n",
       "0              0              1              0              0              2   \n",
       "1              1              0              0              0              0   \n",
       "2              0              0              0              0              0   \n",
       "3              2              0              0              0              0   \n",
       "4              1              1              1             4+              1   \n",
       "\n",
       "  percentile_9th percentile_10th percentile_11th percentile_12th  \\\n",
       "0              0               1               1               0   \n",
       "1              1               1               0               0   \n",
       "2              0               0               0               0   \n",
       "3              0               0               0               0   \n",
       "4              0               0               0               0   \n",
       "\n",
       "  percentile_13th percentile_14th percentile_15th percentile_16th  \\\n",
       "0               1               0               0               0   \n",
       "1               0               0               0               0   \n",
       "2               0               2               2               0   \n",
       "3               0               1               0               2   \n",
       "4               0               0               0               0   \n",
       "\n",
       "  percentile_17th percentile_18th percentile_19th     review_score  \n",
       "0               0              4+              4+  reviewscore_1.0  \n",
       "1               0               0               3  reviewscore_1.0  \n",
       "2               0               2               3  reviewscore_1.0  \n",
       "3               1               3              4+  reviewscore_1.0  \n",
       "4               0               0               2  reviewscore_1.0  "
      ]
     },
     "execution_count": 49,
     "metadata": {},
     "output_type": "execute_result"
    }
   ],
   "source": [
    "percentile_cols = ['percentile_'+str(x)+'th' for x in range(0, duration_cut)]\n",
    "percentile_cols = ['order_id'] + percentile_cols + ['review_score']\n",
    "\n",
    "order_logistic_states = pd.DataFrame(percentile_actions_collect, columns=percentile_cols)\n",
    "order_logistic_states.groupby(['review_score']).size()\n",
    "order_logistic_states.shape\n",
    "order_logistic_states.head()\n",
    "order_logistic_states.to_csv(f'order_logistic_states-2020125-v8.{str(day_num)}-{str(duration_cut)}durations.csv', index=False)\n",
    "\n"
   ]
  },
  {
   "cell_type": "code",
   "execution_count": 50,
   "metadata": {},
   "outputs": [
    {
     "data": {
      "text/html": [
       "<div>\n",
       "<style scoped>\n",
       "    .dataframe tbody tr th:only-of-type {\n",
       "        vertical-align: middle;\n",
       "    }\n",
       "\n",
       "    .dataframe tbody tr th {\n",
       "        vertical-align: top;\n",
       "    }\n",
       "\n",
       "    .dataframe thead th {\n",
       "        text-align: right;\n",
       "    }\n",
       "</style>\n",
       "<table border=\"1\" class=\"dataframe\">\n",
       "  <thead>\n",
       "    <tr style=\"text-align: right;\">\n",
       "      <th></th>\n",
       "      <th>items</th>\n",
       "      <th>count</th>\n",
       "    </tr>\n",
       "  </thead>\n",
       "  <tbody>\n",
       "    <tr>\n",
       "      <th>0</th>\n",
       "      <td>0</td>\n",
       "      <td>8840</td>\n",
       "    </tr>\n",
       "    <tr>\n",
       "      <th>1</th>\n",
       "      <td>1</td>\n",
       "      <td>1894</td>\n",
       "    </tr>\n",
       "    <tr>\n",
       "      <th>2</th>\n",
       "      <td>2</td>\n",
       "      <td>995</td>\n",
       "    </tr>\n",
       "    <tr>\n",
       "      <th>3</th>\n",
       "      <td>3</td>\n",
       "      <td>580</td>\n",
       "    </tr>\n",
       "    <tr>\n",
       "      <th>4</th>\n",
       "      <td>4+</td>\n",
       "      <td>511</td>\n",
       "    </tr>\n",
       "    <tr>\n",
       "      <th>5</th>\n",
       "      <td>reviewscore_1.0</td>\n",
       "      <td>326</td>\n",
       "    </tr>\n",
       "    <tr>\n",
       "      <th>6</th>\n",
       "      <td>reviewscore_5.0</td>\n",
       "      <td>315</td>\n",
       "    </tr>\n",
       "  </tbody>\n",
       "</table>\n",
       "</div>"
      ],
      "text/plain": [
       "             items  count\n",
       "0                0   8840\n",
       "1                1   1894\n",
       "2                2    995\n",
       "3                3    580\n",
       "4               4+    511\n",
       "5  reviewscore_1.0    326\n",
       "6  reviewscore_5.0    315"
      ]
     },
     "execution_count": 50,
     "metadata": {},
     "output_type": "execute_result"
    }
   ],
   "source": [
    "collect_all = list()\n",
    "for l in percentile_actions_collect:\n",
    "    for item in l[1:]:\n",
    "        collect_all.append(item)\n",
    "\n",
    "pd.DataFrame(collect_all, columns=['items']).groupby(['items']).size().reset_index().rename(columns={0: 'count'})\n"
   ]
  },
  {
   "cell_type": "code",
   "execution_count": null,
   "metadata": {},
   "outputs": [],
   "source": []
  },
  {
   "cell_type": "code",
   "execution_count": null,
   "metadata": {},
   "outputs": [],
   "source": []
  }
 ],
 "metadata": {
  "kernelspec": {
   "display_name": "Python 3",
   "language": "python",
   "name": "python3"
  },
  "language_info": {
   "codemirror_mode": {
    "name": "ipython",
    "version": 3
   },
   "file_extension": ".py",
   "mimetype": "text/x-python",
   "name": "python",
   "nbconvert_exporter": "python",
   "pygments_lexer": "ipython3",
   "version": "3.7.9"
  }
 },
 "nbformat": 4,
 "nbformat_minor": 2
}
