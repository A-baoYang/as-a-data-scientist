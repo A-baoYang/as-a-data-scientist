{
 "cells": [
  {
   "cell_type": "code",
   "execution_count": 1,
   "metadata": {},
   "outputs": [],
   "source": [
    "import numpy as np\n",
    "import pandas as pd\n",
    "pd.set_option('display.max_columns', None)\n",
    "import random\n",
    "import datetime as dt\n",
    "import matplotlib.pyplot as plt\n",
    "# import seaborn as sns\n",
    "import warnings\n",
    "warnings.filterwarnings('ignore')\n",
    "import gc\n",
    "# del a\n",
    "# gc.collect()\n",
    "\n",
    "from matplotlib.font_manager import FontProperties\n",
    "from IPython.core.interactiveshell import InteractiveShell\n",
    "InteractiveShell.ast_node_interactivity = \"all\"\n",
    "from tqdm import tqdm\n",
    "\n",
    "fontproperties = FontProperties(fname = 'font_ch.ttf', size = 14)\n",
    "font = 'font_ch.ttf'\n",
    "\n",
    "\n"
   ]
  },
  {
   "cell_type": "code",
   "execution_count": 2,
   "metadata": {
    "scrolled": true
   },
   "outputs": [
    {
     "name": "stdout",
     "output_type": "stream",
     "text": [
      "=== order ===\n"
     ]
    },
    {
     "data": {
      "text/plain": [
       "(5000601, 9)"
      ]
     },
     "execution_count": 2,
     "metadata": {},
     "output_type": "execute_result"
    },
    {
     "data": {
      "text/html": [
       "<div>\n",
       "<style scoped>\n",
       "    .dataframe tbody tr th:only-of-type {\n",
       "        vertical-align: middle;\n",
       "    }\n",
       "\n",
       "    .dataframe tbody tr th {\n",
       "        vertical-align: top;\n",
       "    }\n",
       "\n",
       "    .dataframe thead th {\n",
       "        text-align: right;\n",
       "    }\n",
       "</style>\n",
       "<table border=\"1\" class=\"dataframe\">\n",
       "  <thead>\n",
       "    <tr style=\"text-align: right;\">\n",
       "      <th></th>\n",
       "      <th>day</th>\n",
       "      <th>order_id</th>\n",
       "      <th>item_det_info</th>\n",
       "      <th>pay_timestamp</th>\n",
       "      <th>buyer_id</th>\n",
       "      <th>promise_speed</th>\n",
       "      <th>if_cainiao</th>\n",
       "      <th>merchant_id</th>\n",
       "      <th>Logistics_review_score</th>\n",
       "    </tr>\n",
       "  </thead>\n",
       "  <tbody>\n",
       "    <tr>\n",
       "      <th>0</th>\n",
       "      <td>20170101</td>\n",
       "      <td>488</td>\n",
       "      <td>86889:1:1152.11</td>\n",
       "      <td>2017-01-01 13:07:00</td>\n",
       "      <td>73376137</td>\n",
       "      <td>3.0</td>\n",
       "      <td>1</td>\n",
       "      <td>505</td>\n",
       "      <td>5.0</td>\n",
       "    </tr>\n",
       "    <tr>\n",
       "      <th>3</th>\n",
       "      <td>20170101</td>\n",
       "      <td>6827</td>\n",
       "      <td>182517:1:965.21</td>\n",
       "      <td>2017-01-01 13:13:00</td>\n",
       "      <td>41670373</td>\n",
       "      <td>0.0</td>\n",
       "      <td>1</td>\n",
       "      <td>42</td>\n",
       "      <td>5.0</td>\n",
       "    </tr>\n",
       "    <tr>\n",
       "      <th>4</th>\n",
       "      <td>20170101</td>\n",
       "      <td>10231</td>\n",
       "      <td>154345:1:74.77</td>\n",
       "      <td>2017-01-01 17:19:00</td>\n",
       "      <td>31580563</td>\n",
       "      <td>NaN</td>\n",
       "      <td>0</td>\n",
       "      <td>3</td>\n",
       "      <td>5.0</td>\n",
       "    </tr>\n",
       "    <tr>\n",
       "      <th>5</th>\n",
       "      <td>20170101</td>\n",
       "      <td>10233</td>\n",
       "      <td>87290:1:6.99</td>\n",
       "      <td>2017-01-01 22:52:00</td>\n",
       "      <td>26867950</td>\n",
       "      <td>NaN</td>\n",
       "      <td>0</td>\n",
       "      <td>501</td>\n",
       "      <td>5.0</td>\n",
       "    </tr>\n",
       "    <tr>\n",
       "      <th>6</th>\n",
       "      <td>20170101</td>\n",
       "      <td>10383</td>\n",
       "      <td>101232:1:20.39</td>\n",
       "      <td>2017-01-01 14:14:00</td>\n",
       "      <td>9447868</td>\n",
       "      <td>NaN</td>\n",
       "      <td>0</td>\n",
       "      <td>90</td>\n",
       "      <td>3.0</td>\n",
       "    </tr>\n",
       "  </tbody>\n",
       "</table>\n",
       "</div>"
      ],
      "text/plain": [
       "        day  order_id    item_det_info        pay_timestamp  buyer_id  \\\n",
       "0  20170101       488  86889:1:1152.11  2017-01-01 13:07:00  73376137   \n",
       "3  20170101      6827  182517:1:965.21  2017-01-01 13:13:00  41670373   \n",
       "4  20170101     10231   154345:1:74.77  2017-01-01 17:19:00  31580563   \n",
       "5  20170101     10233     87290:1:6.99  2017-01-01 22:52:00  26867950   \n",
       "6  20170101     10383   101232:1:20.39  2017-01-01 14:14:00   9447868   \n",
       "\n",
       "   promise_speed  if_cainiao  merchant_id  Logistics_review_score  \n",
       "0            3.0           1          505                     5.0  \n",
       "3            0.0           1           42                     5.0  \n",
       "4            NaN           0            3                     5.0  \n",
       "5            NaN           0          501                     5.0  \n",
       "6            NaN           0           90                     3.0  "
      ]
     },
     "execution_count": 2,
     "metadata": {},
     "output_type": "execute_result"
    },
    {
     "name": "stdout",
     "output_type": "stream",
     "text": [
      "=== logistic ===\n"
     ]
    },
    {
     "data": {
      "text/plain": [
       "(53471840, 17)"
      ]
     },
     "execution_count": 2,
     "metadata": {},
     "output_type": "execute_result"
    },
    {
     "data": {
      "text/html": [
       "<div>\n",
       "<style scoped>\n",
       "    .dataframe tbody tr th:only-of-type {\n",
       "        vertical-align: middle;\n",
       "    }\n",
       "\n",
       "    .dataframe tbody tr th {\n",
       "        vertical-align: top;\n",
       "    }\n",
       "\n",
       "    .dataframe thead th {\n",
       "        text-align: right;\n",
       "    }\n",
       "</style>\n",
       "<table border=\"1\" class=\"dataframe\">\n",
       "  <thead>\n",
       "    <tr style=\"text-align: right;\">\n",
       "      <th></th>\n",
       "      <th>order_id</th>\n",
       "      <th>order_date</th>\n",
       "      <th>logistic_order_id</th>\n",
       "      <th>action</th>\n",
       "      <th>facility_id</th>\n",
       "      <th>facility_type</th>\n",
       "      <th>city_id</th>\n",
       "      <th>logistic_company_id</th>\n",
       "      <th>timestamp</th>\n",
       "      <th>day</th>\n",
       "      <th>item_det_info</th>\n",
       "      <th>pay_timestamp</th>\n",
       "      <th>buyer_id</th>\n",
       "      <th>promise_speed</th>\n",
       "      <th>if_cainiao</th>\n",
       "      <th>merchant_id</th>\n",
       "      <th>Logistics_review_score</th>\n",
       "    </tr>\n",
       "  </thead>\n",
       "  <tbody>\n",
       "    <tr>\n",
       "      <th>3</th>\n",
       "      <td>31846983</td>\n",
       "      <td>20170107</td>\n",
       "      <td>14697151</td>\n",
       "      <td>GOT</td>\n",
       "      <td>NaN</td>\n",
       "      <td>NaN</td>\n",
       "      <td>NaN</td>\n",
       "      <td>430</td>\n",
       "      <td>2017-01-07 18:39:00</td>\n",
       "      <td>20170107.0</td>\n",
       "      <td>205402:10:51653.08</td>\n",
       "      <td>2017-01-07 14:41:00</td>\n",
       "      <td>4368448.0</td>\n",
       "      <td>NaN</td>\n",
       "      <td>0.0</td>\n",
       "      <td>180.0</td>\n",
       "      <td>5.0</td>\n",
       "    </tr>\n",
       "    <tr>\n",
       "      <th>4</th>\n",
       "      <td>31846983</td>\n",
       "      <td>20170107</td>\n",
       "      <td>14697151</td>\n",
       "      <td>ARRIVAL</td>\n",
       "      <td>NaN</td>\n",
       "      <td>NaN</td>\n",
       "      <td>NaN</td>\n",
       "      <td>430</td>\n",
       "      <td>2017-01-07 20:44:00</td>\n",
       "      <td>20170107.0</td>\n",
       "      <td>205402:10:51653.08</td>\n",
       "      <td>2017-01-07 14:41:00</td>\n",
       "      <td>4368448.0</td>\n",
       "      <td>NaN</td>\n",
       "      <td>0.0</td>\n",
       "      <td>180.0</td>\n",
       "      <td>5.0</td>\n",
       "    </tr>\n",
       "    <tr>\n",
       "      <th>5</th>\n",
       "      <td>31846983</td>\n",
       "      <td>20170107</td>\n",
       "      <td>14697151</td>\n",
       "      <td>SIGNED</td>\n",
       "      <td>NaN</td>\n",
       "      <td>NaN</td>\n",
       "      <td>NaN</td>\n",
       "      <td>430</td>\n",
       "      <td>2017-01-08 16:35:00</td>\n",
       "      <td>20170107.0</td>\n",
       "      <td>205402:10:51653.08</td>\n",
       "      <td>2017-01-07 14:41:00</td>\n",
       "      <td>4368448.0</td>\n",
       "      <td>NaN</td>\n",
       "      <td>0.0</td>\n",
       "      <td>180.0</td>\n",
       "      <td>5.0</td>\n",
       "    </tr>\n",
       "    <tr>\n",
       "      <th>6</th>\n",
       "      <td>31846983</td>\n",
       "      <td>20170107</td>\n",
       "      <td>14697151</td>\n",
       "      <td>TRADE_SUCCESS</td>\n",
       "      <td>NaN</td>\n",
       "      <td>NaN</td>\n",
       "      <td>NaN</td>\n",
       "      <td>430</td>\n",
       "      <td>2017-01-17 17:05:00</td>\n",
       "      <td>20170107.0</td>\n",
       "      <td>205402:10:51653.08</td>\n",
       "      <td>2017-01-07 14:41:00</td>\n",
       "      <td>4368448.0</td>\n",
       "      <td>NaN</td>\n",
       "      <td>0.0</td>\n",
       "      <td>180.0</td>\n",
       "      <td>5.0</td>\n",
       "    </tr>\n",
       "    <tr>\n",
       "      <th>7</th>\n",
       "      <td>31846983</td>\n",
       "      <td>20170107</td>\n",
       "      <td>14697151</td>\n",
       "      <td>CONSIGN</td>\n",
       "      <td>NaN</td>\n",
       "      <td>NaN</td>\n",
       "      <td>NaN</td>\n",
       "      <td>430</td>\n",
       "      <td>2017-01-07 17:05:00</td>\n",
       "      <td>20170107.0</td>\n",
       "      <td>205402:10:51653.08</td>\n",
       "      <td>2017-01-07 14:41:00</td>\n",
       "      <td>4368448.0</td>\n",
       "      <td>NaN</td>\n",
       "      <td>0.0</td>\n",
       "      <td>180.0</td>\n",
       "      <td>5.0</td>\n",
       "    </tr>\n",
       "  </tbody>\n",
       "</table>\n",
       "</div>"
      ],
      "text/plain": [
       "   order_id  order_date  logistic_order_id         action  facility_id  \\\n",
       "3  31846983    20170107           14697151            GOT          NaN   \n",
       "4  31846983    20170107           14697151        ARRIVAL          NaN   \n",
       "5  31846983    20170107           14697151         SIGNED          NaN   \n",
       "6  31846983    20170107           14697151  TRADE_SUCCESS          NaN   \n",
       "7  31846983    20170107           14697151        CONSIGN          NaN   \n",
       "\n",
       "   facility_type  city_id  logistic_company_id            timestamp  \\\n",
       "3            NaN      NaN                  430  2017-01-07 18:39:00   \n",
       "4            NaN      NaN                  430  2017-01-07 20:44:00   \n",
       "5            NaN      NaN                  430  2017-01-08 16:35:00   \n",
       "6            NaN      NaN                  430  2017-01-17 17:05:00   \n",
       "7            NaN      NaN                  430  2017-01-07 17:05:00   \n",
       "\n",
       "          day       item_det_info        pay_timestamp   buyer_id  \\\n",
       "3  20170107.0  205402:10:51653.08  2017-01-07 14:41:00  4368448.0   \n",
       "4  20170107.0  205402:10:51653.08  2017-01-07 14:41:00  4368448.0   \n",
       "5  20170107.0  205402:10:51653.08  2017-01-07 14:41:00  4368448.0   \n",
       "6  20170107.0  205402:10:51653.08  2017-01-07 14:41:00  4368448.0   \n",
       "7  20170107.0  205402:10:51653.08  2017-01-07 14:41:00  4368448.0   \n",
       "\n",
       "   promise_speed  if_cainiao  merchant_id  Logistics_review_score  \n",
       "3            NaN         0.0        180.0                     5.0  \n",
       "4            NaN         0.0        180.0                     5.0  \n",
       "5            NaN         0.0        180.0                     5.0  \n",
       "6            NaN         0.0        180.0                     5.0  \n",
       "7            NaN         0.0        180.0                     5.0  "
      ]
     },
     "execution_count": 2,
     "metadata": {},
     "output_type": "execute_result"
    }
   ],
   "source": [
    "###columns\n",
    "inventory_cols = ['day','item_id','warehouse_id','warehouse_city_id','total_begin_qty','total_end_qty','Replen_in_qty',\n",
    "                  'transfer_in_qty','sale_out_qty','transfer_out_qty']\n",
    "item_cols = ['date','item_id','front_page_item_id','merchant_id','brand_id','category_id','sub_category_id','pc_pv',\n",
    "             'app_pv','pc_uv','app_uv','if_cainiao']\n",
    "logistic_cols = ['order_id','order_date','logistic_order_id','action','facility_id','facility_type','city_id',\n",
    "                 'logistic_company_id','timestamp']\n",
    "order_cols = ['day','order_id','item_det_info','pay_timestamp','buyer_id','promise_speed','if_cainiao','merchant_id',\n",
    "              'Logistics_review_score']\n",
    "seller_cols = ['day','merchant_id','subcategory_id','pc_pv','pc_uv','app_pv','app_uv','avg_logistic_review_score',\n",
    "              'avg_order_quality_score','avg_service_quality_score','if_cainiao']\n",
    "\n",
    "# print('=== inventory ===')\n",
    "# inventory = pd.read_csv('msom_inventory_data.csv', header=None)\n",
    "# inventory.columns = inventory_cols\n",
    "# inventory.shape\n",
    "# inventory.head()\n",
    "\n",
    "\n",
    "# print('=== item ===')\n",
    "# item = pd.read_csv('msom_item_data.csv', header=None) \n",
    "# item.columns = item_cols\n",
    "# item.shape\n",
    "# item.head()\n",
    "\n",
    "\n",
    "print('=== order ===')\n",
    "order = pd.read_csv('msom_order_data_1.csv', header=None)\n",
    "order.columns = order_cols\n",
    "# order = order.drop(['day','item_det_info','buyer_id','promise_speed','if_cainiao','merchant_id'], axis=1)\n",
    "order = order[~order['Logistics_review_score'].isnull()]\n",
    "# for i in tqdm(range(2, 8)):\n",
    "#     order_ = pd.read_csv(f'msom_order_data_{i}.csv', header=None)\n",
    "#     order_.columns = order_cols\n",
    "#     order_ = order_.drop(['day','item_det_info','buyer_id','promise_speed','if_cainiao','merchant_id'], axis=1)\n",
    "#     order_ = order_[~order_['Logistics_review_score'].isnull()]\n",
    "#     order = pd.concat([order, order_])\n",
    "\n",
    "order.shape\n",
    "order.head()\n",
    "\n",
    "\n",
    "print('=== logistic ===')\n",
    "logistic = pd.read_csv('msom_logistic_detail_1.csv', header=None)\n",
    "logistic.columns = logistic_cols\n",
    "logistic = pd.merge(logistic, order, on='order_id', how='left')\n",
    "logistic = logistic[~logistic['Logistics_review_score'].isnull()]\n",
    "logistic = logistic.drop_duplicates()\n",
    "logistic.shape\n",
    "logistic.head()\n",
    "\n",
    "# logistic = []\n",
    "# with open('msom_logistic_detail_1.csv', encoding='utf-8') as f:\n",
    "#     for line in f.readlines():\n",
    "#         line = line.strip()\n",
    "#         features = line.split(',')\n",
    "#         logistic.append(features)\n",
    "# logistic = pd.DataFrame(logistic)\n",
    "\n",
    "# def importdata_logistic(filename):\n",
    "#     logistic = pd.read_csv(filename, header=None) \n",
    "#     logistic.columns = logistic_cols\n",
    "#     logistic = logistic.drop(['logistic_order_id','facility_id','facility_type','city_id','logistic_company_id'], axis=1)\n",
    "#     logistic.shape\n",
    "#     logistic.head()\n",
    "#     return logistic\n",
    "\n",
    "\n",
    "# stats_logistic = []\n",
    "# print('=== stats_logistic ===')\n",
    "# for i in tqdm(range(1, 8)):\n",
    "#     logistic = importdata_logistic(f'msom_logistic_detail_{i}.csv')\n",
    "#     logistic.shape\n",
    "#     logistic = pd.merge(logistic, order, on='order_id', how='left')\n",
    "#     logistic.shape\n",
    "#     logistic = logistic[~logistic['Logistics_review_score'].isnull()]\n",
    "#     logistic = logistic.drop_duplicates()\n",
    "#     stats_logistic_ = logistic.groupby(['Logistics_review_score']).size().reset_index()\n",
    "#     stats_logistic_\n",
    "#     stats_logistic.append(stats_logistic_)\n",
    "#     del logistic\n",
    "#     gc.collect()\n",
    "\n",
    "\n",
    "# print('=== seller ===')\n",
    "# seller = pd.read_csv('msom_seller_data.csv', header=None) \n",
    "# seller.columns = seller_cols\n",
    "# seller.shape\n",
    "# seller.head()\n",
    "\n",
    "\n"
   ]
  },
  {
   "cell_type": "markdown",
   "metadata": {},
   "source": [
    "### EDA\n",
    "(原始資料筆數過多，目前先抽樣100000筆不重複訂單當作觀察)\n",
    "\n",
    "數值指標/維度：\n",
    "- 物流評分\n",
    "- 運送天數\n",
    "- 運送商品數\n",
    "- 訂單總金額\n",
    "- ~~該 merchant 的平均物流評分~~\n",
    "- ~~該 merchant 的平均流量~~\n",
    "\n",
    "類別維度：\n",
    "- 下訂單時間\n",
    "    - 月份\n",
    "    - 星期幾\n",
    "    - 日期(月初、月中、月末)\n",
    "- 到貨時間\n",
    "    - 月份\n",
    "    - 星期幾\n",
    "    - 日期(月初、月中、月末)\n",
    "\n",
    "    \n",
    "``` \n",
    "`order.csv`\n",
    "- Different items are separated by “;”\n",
    "- the information for each item is separated by “:” (item_id:quantity:payment_amount)\n",
    "- Payment amount = total payment for all quantity of this item\n",
    "```\n",
    "    "
   ]
  },
  {
   "cell_type": "code",
   "execution_count": 4,
   "metadata": {
    "scrolled": true
   },
   "outputs": [
    {
     "name": "stderr",
     "output_type": "stream",
     "text": [
      "100%|█████████████████████████████████████████████████████████████████████████████████████████████████████████████████████████████████████████████████████████████████████████████████████████████| 100000/100000 [1:38:15<00:00, 16.96it/s]\n"
     ]
    },
    {
     "data": {
      "text/html": [
       "<div>\n",
       "<style scoped>\n",
       "    .dataframe tbody tr th:only-of-type {\n",
       "        vertical-align: middle;\n",
       "    }\n",
       "\n",
       "    .dataframe tbody tr th {\n",
       "        vertical-align: top;\n",
       "    }\n",
       "\n",
       "    .dataframe thead th {\n",
       "        text-align: right;\n",
       "    }\n",
       "</style>\n",
       "<table border=\"1\" class=\"dataframe\">\n",
       "  <thead>\n",
       "    <tr style=\"text-align: right;\">\n",
       "      <th></th>\n",
       "      <th>sent_duration</th>\n",
       "      <th>count</th>\n",
       "    </tr>\n",
       "  </thead>\n",
       "  <tbody>\n",
       "    <tr>\n",
       "      <th>0</th>\n",
       "      <td>0</td>\n",
       "      <td>4560</td>\n",
       "    </tr>\n",
       "    <tr>\n",
       "      <th>1</th>\n",
       "      <td>1</td>\n",
       "      <td>18505</td>\n",
       "    </tr>\n",
       "    <tr>\n",
       "      <th>2</th>\n",
       "      <td>10+</td>\n",
       "      <td>3804</td>\n",
       "    </tr>\n",
       "    <tr>\n",
       "      <th>3</th>\n",
       "      <td>2</td>\n",
       "      <td>24086</td>\n",
       "    </tr>\n",
       "    <tr>\n",
       "      <th>4</th>\n",
       "      <td>3</td>\n",
       "      <td>19960</td>\n",
       "    </tr>\n",
       "    <tr>\n",
       "      <th>5</th>\n",
       "      <td>4</td>\n",
       "      <td>12017</td>\n",
       "    </tr>\n",
       "    <tr>\n",
       "      <th>6</th>\n",
       "      <td>5</td>\n",
       "      <td>6809</td>\n",
       "    </tr>\n",
       "    <tr>\n",
       "      <th>7</th>\n",
       "      <td>6</td>\n",
       "      <td>4005</td>\n",
       "    </tr>\n",
       "    <tr>\n",
       "      <th>8</th>\n",
       "      <td>7</td>\n",
       "      <td>2594</td>\n",
       "    </tr>\n",
       "    <tr>\n",
       "      <th>9</th>\n",
       "      <td>8</td>\n",
       "      <td>1832</td>\n",
       "    </tr>\n",
       "    <tr>\n",
       "      <th>10</th>\n",
       "      <td>9</td>\n",
       "      <td>1153</td>\n",
       "    </tr>\n",
       "  </tbody>\n",
       "</table>\n",
       "</div>"
      ],
      "text/plain": [
       "   sent_duration  count\n",
       "0              0   4560\n",
       "1              1  18505\n",
       "2            10+   3804\n",
       "3              2  24086\n",
       "4              3  19960\n",
       "5              4  12017\n",
       "6              5   6809\n",
       "7              6   4005\n",
       "8              7   2594\n",
       "9              8   1832\n",
       "10             9   1153"
      ]
     },
     "execution_count": 4,
     "metadata": {},
     "output_type": "execute_result"
    },
    {
     "name": "stdout",
     "output_type": "stream",
     "text": [
      "(4560,)\n",
      "(18505,)\n",
      "(24086,)\n",
      "(19960,)\n",
      "(12017,)\n",
      "(6809,)\n",
      "(4005,)\n",
      "(2594,)\n",
      "(1832,)\n",
      "(1153,)\n",
      "(3804,)\n"
     ]
    }
   ],
   "source": [
    "### 算出各定單的運送時長\n",
    "\n",
    "sent_times = []\n",
    "for oid in tqdm(random.sample(logistic.order_id.unique().tolist(), 100000)):\n",
    "    tmp = logistic[logistic['order_id']==oid]\n",
    "    reviewscore = tmp.Logistics_review_score.values[0]\n",
    "    try:\n",
    "        end_time = tmp[tmp['action']=='SIGNED'].timestamp.values[-1]\n",
    "    except:\n",
    "        pass\n",
    "    start_time = tmp.pay_timestamp.values[0]\n",
    "    duration = dt.datetime.strptime(end_time, '%Y-%m-%d %H:%M:%S') - dt.datetime.strptime(start_time, '%Y-%m-%d %H:%M:%S')\n",
    "    sent_times.append([oid, reviewscore, duration.days])\n",
    "\n",
    "df_sent_times = pd.DataFrame(sent_times, columns=['order_id','Logistics_review_score','sent_duration'])\n",
    "df_sent_times = df_sent_times[df_sent_times['sent_duration']>=0]\n",
    "df_sent_times['sent_duration'] = np.where(df_sent_times['sent_duration']>=10, '10+', df_sent_times['sent_duration'])\n",
    "df_sent_times.to_csv('df_sent_times.csv', index=False)\n",
    "logistic = logistic[logistic['order_id'].isin(df_sent_times.order_id.unique())]\n",
    "logistic.to_csv('logistic_sampled.csv', index=False)\n",
    "order = order[order['order_id'].isin(df_sent_times.order_id.unique())]\n",
    "order.to_csv('order_sampled.csv', index=False)\n",
    "df_sent_times.groupby(['sent_duration']).size().reset_index().rename(columns={0: 'count'})\n",
    "\n",
    "sent_duration_0day = df_sent_times[df_sent_times['sent_duration']=='0'].order_id.unique(); print(sent_duration_0day.shape)\n",
    "sent_duration_1day = df_sent_times[df_sent_times['sent_duration']=='1'].order_id.unique(); print(sent_duration_1day.shape)\n",
    "sent_duration_2day = df_sent_times[df_sent_times['sent_duration']=='2'].order_id.unique(); print(sent_duration_2day.shape)\n",
    "sent_duration_3day = df_sent_times[df_sent_times['sent_duration']=='3'].order_id.unique(); print(sent_duration_3day.shape)\n",
    "sent_duration_4day = df_sent_times[df_sent_times['sent_duration']=='4'].order_id.unique(); print(sent_duration_4day.shape)\n",
    "sent_duration_5day = df_sent_times[df_sent_times['sent_duration']=='5'].order_id.unique(); print(sent_duration_5day.shape)\n",
    "sent_duration_6day = df_sent_times[df_sent_times['sent_duration']=='6'].order_id.unique(); print(sent_duration_6day.shape)\n",
    "sent_duration_7day = df_sent_times[df_sent_times['sent_duration']=='7'].order_id.unique(); print(sent_duration_7day.shape)\n",
    "sent_duration_8day = df_sent_times[df_sent_times['sent_duration']=='8'].order_id.unique(); print(sent_duration_8day.shape)\n",
    "sent_duration_9day = df_sent_times[df_sent_times['sent_duration']=='9'].order_id.unique(); print(sent_duration_9day.shape)\n",
    "sent_duration_10dayup = df_sent_times[df_sent_times['sent_duration']=='10+'].order_id.unique(); print(sent_duration_10dayup.shape)\n",
    "\n"
   ]
  },
  {
   "cell_type": "markdown",
   "metadata": {},
   "source": [
    "#### 物流評分分布"
   ]
  },
  {
   "cell_type": "code",
   "execution_count": 5,
   "metadata": {
    "scrolled": false
   },
   "outputs": [
    {
     "data": {
      "image/png": "[encoded data removed]",
      "text/plain": [
       "<Figure size 720x576 with 1 Axes>"
      ]
     },
     "metadata": {
      "needs_background": "light"
     },
     "output_type": "display_data"
    }
   ],
   "source": [
    "tmp_df_1 = df_sent_times.groupby(['Logistics_review_score']).size().reset_index().rename(columns={0: 'count'})\n",
    "tmp_df_1\n",
    "\n",
    "plt.figure(figsize=(10,8))\n",
    "plt.bar(tmp_df_1['Logistics_review_score'].values, tmp_df_1['count'].values)\n",
    "plt.yscale('log')\n",
    "plt.xlabel('Logistics_review_score')\n",
    "plt.ylabel('Unique orders (log-scaled)')\n",
    "plt.title('Logistics Review Score Distibution')\n",
    "plt.show();\n",
    "\n"
   ]
  },
  {
   "cell_type": "markdown",
   "metadata": {},
   "source": [
    "#### 運送天數"
   ]
  },
  {
   "cell_type": "code",
   "execution_count": 7,
   "metadata": {
    "scrolled": false
   },
   "outputs": [
    {
     "data": {
      "image/png": "[encoded data removed]",
      "text/plain": [
       "<Figure size 720x576 with 1 Axes>"
      ]
     },
     "metadata": {
      "needs_background": "light"
     },
     "output_type": "display_data"
    }
   ],
   "source": [
    "tmp_df_2 = df_sent_times.groupby(['sent_duration']).size().reset_index().rename(columns={0: 'count'})\n",
    "tmp_df_2['sent_duration'] = pd.Categorical(tmp_df_2['sent_duration'], categories=['0', '1', '2', '3', '4', '5', '6', '7', '8', '9', '10+'])\n",
    "tmp_df_2 = tmp_df_2.sort_values('sent_duration')\n",
    "tmp_df_2\n",
    "\n",
    "plt.figure(figsize=(10,8))\n",
    "plt.bar(tmp_df_2['sent_duration'].values, tmp_df_2['count'].values)\n",
    "plt.xlabel('Total sent days')\n",
    "plt.ylabel('Unique orders')\n",
    "plt.title('Delivery Time Distibution')\n",
    "plt.show();\n"
   ]
  },
  {
   "cell_type": "markdown",
   "metadata": {},
   "source": [
    "#### 不重複商品數"
   ]
  },
  {
   "cell_type": "code",
   "execution_count": 8,
   "metadata": {
    "scrolled": false
   },
   "outputs": [
    {
     "data": {
      "image/png": "[encoded data removed]",
      "text/plain": [
       "<Figure size 720x576 with 1 Axes>"
      ]
     },
     "metadata": {
      "needs_background": "light"
     },
     "output_type": "display_data"
    }
   ],
   "source": [
    "tmp_df_3 = pd.DataFrame({\n",
    "    'order_id': order.order_id,\n",
    "    'item': order.item_det_info.str.split(';').explode()\n",
    "})\n",
    "df_sent_times = pd.merge(df_sent_times, tmp_df_3.groupby(['order_id']).size().reset_index().rename(columns={0: 'items'}), \n",
    "                         on='order_id', how='left')\n",
    "tmp_df_3 = df_sent_times.groupby('items').size().reset_index().rename(columns={0: 'count'})\n",
    "tmp_df_3\n",
    "\n",
    "plt.figure(figsize=(10,8))\n",
    "plt.bar(tmp_df_3['items'].values, tmp_df_3['count'].values)\n",
    "plt.yscale('log')\n",
    "plt.ylabel('Unique orders (log-scaled)')\n",
    "plt.xlabel('Unique item quantity')\n",
    "plt.title('Unique Item Quantity of Orders Distribution')\n",
    "plt.show();\n"
   ]
  },
  {
   "cell_type": "markdown",
   "metadata": {},
   "source": [
    "#### 訂單總商品數、總金額"
   ]
  },
  {
   "cell_type": "code",
   "execution_count": 9,
   "metadata": {
    "scrolled": false
   },
   "outputs": [
    {
     "data": {
      "text/html": [
       "<div>\n",
       "<style scoped>\n",
       "    .dataframe tbody tr th:only-of-type {\n",
       "        vertical-align: middle;\n",
       "    }\n",
       "\n",
       "    .dataframe tbody tr th {\n",
       "        vertical-align: top;\n",
       "    }\n",
       "\n",
       "    .dataframe thead th {\n",
       "        text-align: right;\n",
       "    }\n",
       "</style>\n",
       "<table border=\"1\" class=\"dataframe\">\n",
       "  <thead>\n",
       "    <tr style=\"text-align: right;\">\n",
       "      <th></th>\n",
       "      <th>order_id</th>\n",
       "      <th>Logistics_review_score</th>\n",
       "      <th>sent_duration</th>\n",
       "      <th>items</th>\n",
       "      <th>quantity</th>\n",
       "      <th>purchase_value</th>\n",
       "    </tr>\n",
       "  </thead>\n",
       "  <tbody>\n",
       "    <tr>\n",
       "      <th>0</th>\n",
       "      <td>603360</td>\n",
       "      <td>3.0</td>\n",
       "      <td>4</td>\n",
       "      <td>1</td>\n",
       "      <td>1</td>\n",
       "      <td>14.16</td>\n",
       "    </tr>\n",
       "    <tr>\n",
       "      <th>1</th>\n",
       "      <td>67750712</td>\n",
       "      <td>5.0</td>\n",
       "      <td>1</td>\n",
       "      <td>1</td>\n",
       "      <td>1</td>\n",
       "      <td>195.31</td>\n",
       "    </tr>\n",
       "    <tr>\n",
       "      <th>2</th>\n",
       "      <td>49392394</td>\n",
       "      <td>5.0</td>\n",
       "      <td>3</td>\n",
       "      <td>1</td>\n",
       "      <td>1</td>\n",
       "      <td>22.74</td>\n",
       "    </tr>\n",
       "    <tr>\n",
       "      <th>3</th>\n",
       "      <td>95606781</td>\n",
       "      <td>5.0</td>\n",
       "      <td>1</td>\n",
       "      <td>1</td>\n",
       "      <td>1</td>\n",
       "      <td>102.80</td>\n",
       "    </tr>\n",
       "    <tr>\n",
       "      <th>4</th>\n",
       "      <td>118745768</td>\n",
       "      <td>5.0</td>\n",
       "      <td>3</td>\n",
       "      <td>1</td>\n",
       "      <td>1</td>\n",
       "      <td>22.76</td>\n",
       "    </tr>\n",
       "    <tr>\n",
       "      <th>...</th>\n",
       "      <td>...</td>\n",
       "      <td>...</td>\n",
       "      <td>...</td>\n",
       "      <td>...</td>\n",
       "      <td>...</td>\n",
       "      <td>...</td>\n",
       "    </tr>\n",
       "    <tr>\n",
       "      <th>99320</th>\n",
       "      <td>83021333</td>\n",
       "      <td>5.0</td>\n",
       "      <td>9</td>\n",
       "      <td>1</td>\n",
       "      <td>1</td>\n",
       "      <td>27.46</td>\n",
       "    </tr>\n",
       "    <tr>\n",
       "      <th>99321</th>\n",
       "      <td>102170612</td>\n",
       "      <td>5.0</td>\n",
       "      <td>8</td>\n",
       "      <td>1</td>\n",
       "      <td>1</td>\n",
       "      <td>6.51</td>\n",
       "    </tr>\n",
       "    <tr>\n",
       "      <th>99322</th>\n",
       "      <td>31669796</td>\n",
       "      <td>5.0</td>\n",
       "      <td>2</td>\n",
       "      <td>1</td>\n",
       "      <td>1</td>\n",
       "      <td>55.56</td>\n",
       "    </tr>\n",
       "    <tr>\n",
       "      <th>99323</th>\n",
       "      <td>78755004</td>\n",
       "      <td>5.0</td>\n",
       "      <td>3</td>\n",
       "      <td>1</td>\n",
       "      <td>1</td>\n",
       "      <td>20.36</td>\n",
       "    </tr>\n",
       "    <tr>\n",
       "      <th>99324</th>\n",
       "      <td>136333891</td>\n",
       "      <td>5.0</td>\n",
       "      <td>4</td>\n",
       "      <td>1</td>\n",
       "      <td>1</td>\n",
       "      <td>16.63</td>\n",
       "    </tr>\n",
       "  </tbody>\n",
       "</table>\n",
       "<p>99325 rows × 6 columns</p>\n",
       "</div>"
      ],
      "text/plain": [
       "        order_id  Logistics_review_score sent_duration  items  quantity  \\\n",
       "0         603360                     3.0             4      1         1   \n",
       "1       67750712                     5.0             1      1         1   \n",
       "2       49392394                     5.0             3      1         1   \n",
       "3       95606781                     5.0             1      1         1   \n",
       "4      118745768                     5.0             3      1         1   \n",
       "...          ...                     ...           ...    ...       ...   \n",
       "99320   83021333                     5.0             9      1         1   \n",
       "99321  102170612                     5.0             8      1         1   \n",
       "99322   31669796                     5.0             2      1         1   \n",
       "99323   78755004                     5.0             3      1         1   \n",
       "99324  136333891                     5.0             4      1         1   \n",
       "\n",
       "       purchase_value  \n",
       "0               14.16  \n",
       "1              195.31  \n",
       "2               22.74  \n",
       "3              102.80  \n",
       "4               22.76  \n",
       "...               ...  \n",
       "99320           27.46  \n",
       "99321            6.51  \n",
       "99322           55.56  \n",
       "99323           20.36  \n",
       "99324           16.63  \n",
       "\n",
       "[99325 rows x 6 columns]"
      ]
     },
     "execution_count": 9,
     "metadata": {},
     "output_type": "execute_result"
    }
   ],
   "source": [
    "tmp_df_3 = pd.DataFrame({\n",
    "    'order_id': order.order_id,\n",
    "    'item': order.item_det_info.str.split(';').explode()\n",
    "})\n",
    "tmp_df_3 = tmp_df_3.reset_index()\n",
    "tmp_df_4 = pd.DataFrame(tmp_df_3['item'].str.split(':').to_list(), columns=['item_id','quantity','payment_amount'])\n",
    "tmp_df_4['quantity'] = tmp_df_4['quantity'].astype(int)\n",
    "tmp_df_4['payment_amount'] = tmp_df_4['payment_amount'].astype(float)\n",
    "tmp_df_4 = pd.concat([tmp_df_3[['order_id']], tmp_df_4], axis=1)\n",
    "df_sent_times = pd.merge(df_sent_times, tmp_df_4.groupby(['order_id'])['quantity'].sum().reset_index(), \n",
    "                         on='order_id', how='left')\n",
    "df_sent_times = pd.merge(df_sent_times, tmp_df_4.groupby(['order_id'])['payment_amount'].sum().reset_index().rename(columns={'payment_amount': 'purchase_value'}), \n",
    "                         on='order_id', how='left')\n",
    "df_sent_times\n",
    "\n",
    "\n"
   ]
  },
  {
   "cell_type": "code",
   "execution_count": 10,
   "metadata": {
    "scrolled": false
   },
   "outputs": [
    {
     "data": {
      "image/png": "[encoded data removed]",
      "text/plain": [
       "<Figure size 1728x720 with 1 Axes>"
      ]
     },
     "metadata": {
      "needs_background": "light"
     },
     "output_type": "display_data"
    }
   ],
   "source": [
    "tmp_df_4 = df_sent_times.groupby(['quantity']).size().reset_index().rename(columns={0: 'count'})\n",
    "quantity_list = [tmp_df_4['quantity'],'16-20','21-50','51-100','101-200','201-500','501-1000','1001-2000','2000+']\n",
    "cond_list = [\n",
    "    tmp_df_4['quantity']<=15,\n",
    "    (tmp_df_4['quantity']>=16)&(tmp_df_4['quantity']<=20), \n",
    "    (tmp_df_4['quantity']>=21)&(tmp_df_4['quantity']<=50), \n",
    "    (tmp_df_4['quantity']>=51)&(tmp_df_4['quantity']<=100), \n",
    "    (tmp_df_4['quantity']>=101)&(tmp_df_4['quantity']<=200), \n",
    "    (tmp_df_4['quantity']>=201)&(tmp_df_4['quantity']<=500), \n",
    "    (tmp_df_4['quantity']>=501)&(tmp_df_4['quantity']<=1000), \n",
    "    (tmp_df_4['quantity']>=1001)&(tmp_df_4['quantity']<=2000), \n",
    "    tmp_df_4['quantity']>=2000\n",
    "]\n",
    "tmp_df_4['quantity_category'] = np.select(condlist=cond_list, choicelist=quantity_list, default='none')\n",
    "tmp_df_4['quantity_category'] = tmp_df_4['quantity_category'].astype(str)\n",
    "tmp_df_4\n",
    "\n",
    "plt.figure(figsize=(24,10))\n",
    "plt.bar(tmp_df_4['quantity_category'].values, tmp_df_4['count'].values, width=0.5)\n",
    "plt.yscale('log')\n",
    "plt.ylabel('Unique orders (log-scaled)')\n",
    "plt.xlabel('Total item quantity')\n",
    "plt.title('Total item quantity of orders distribution')\n",
    "plt.show();\n",
    "\n"
   ]
  },
  {
   "cell_type": "code",
   "execution_count": 20,
   "metadata": {},
   "outputs": [
    {
     "data": {
      "image/png": "[encoded data removed]",
      "text/plain": [
       "<Figure size 864x432 with 1 Axes>"
      ]
     },
     "metadata": {
      "needs_background": "light"
     },
     "output_type": "display_data"
    }
   ],
   "source": [
    "# value_list = [df_sent_times['purchase_value'],'10001-15000','15001-20000','20001-25000','25001-50000','50000+']\n",
    "# cond_list = [\n",
    "#     df_sent_times['purchase_value']<=10000,\n",
    "#     (df_sent_times['purchase_value']>=10001)&(df_sent_times['purchase_value']<=15000), \n",
    "#     (df_sent_times['purchase_value']>=15001)&(df_sent_times['purchase_value']<=20000), \n",
    "#     (df_sent_times['purchase_value']>=20001)&(df_sent_times['purchase_value']<=25000), \n",
    "#     (df_sent_times['purchase_value']>=25001)&(df_sent_times['purchase_value']<=50000), \n",
    "#     df_sent_times['purchase_value']>=50000\n",
    "# ]\n",
    "# df_sent_times['purchase_value_category'] = np.select(condlist=cond_list, choicelist=value_list, default='none')\n",
    "# df_sent_times['purchase_value_category'] = df_sent_times['purchase_value_category'].astype(str)\n",
    "# df_sent_times\n",
    "\n",
    "plt.figure(figsize=(12,6))\n",
    "plt.hist(df_sent_times['purchase_value'].values, bins=300)#, range=[0,100000])\n",
    "plt.yscale('log')\n",
    "plt.ylabel('Unique orders (log-scaled)')\n",
    "plt.xlabel('Total purchase value')\n",
    "plt.title('Total Purchase Value distribution')\n",
    "plt.show();\n",
    "\n"
   ]
  },
  {
   "cell_type": "markdown",
   "metadata": {},
   "source": [
    "#### 下訂單時間、到貨時間 所獲用戶物流評分的比例\n"
   ]
  },
  {
   "cell_type": "code",
   "execution_count": 113,
   "metadata": {},
   "outputs": [
    {
     "data": {
      "text/html": [
       "<div>\n",
       "<style scoped>\n",
       "    .dataframe tbody tr th:only-of-type {\n",
       "        vertical-align: middle;\n",
       "    }\n",
       "\n",
       "    .dataframe tbody tr th {\n",
       "        vertical-align: top;\n",
       "    }\n",
       "\n",
       "    .dataframe thead th {\n",
       "        text-align: right;\n",
       "    }\n",
       "</style>\n",
       "<table border=\"1\" class=\"dataframe\">\n",
       "  <thead>\n",
       "    <tr style=\"text-align: right;\">\n",
       "      <th></th>\n",
       "      <th>order_id</th>\n",
       "      <th>Logistics_review_score</th>\n",
       "      <th>sent_duration</th>\n",
       "      <th>items</th>\n",
       "      <th>quantity</th>\n",
       "      <th>purchase_value</th>\n",
       "      <th>purchase_value_category</th>\n",
       "      <th>order_dayOfWeek</th>\n",
       "      <th>order_month_duration</th>\n",
       "      <th>order_day_duration</th>\n",
       "      <th>signed_dayOfWeek</th>\n",
       "      <th>signed_month_duration</th>\n",
       "      <th>signed_day_duration</th>\n",
       "      <th>order_month</th>\n",
       "      <th>signed_month</th>\n",
       "    </tr>\n",
       "  </thead>\n",
       "  <tbody>\n",
       "    <tr>\n",
       "      <th>0</th>\n",
       "      <td>603360</td>\n",
       "      <td>3.0</td>\n",
       "      <td>4</td>\n",
       "      <td>1</td>\n",
       "      <td>1</td>\n",
       "      <td>14.16</td>\n",
       "      <td>14.16</td>\n",
       "      <td>1</td>\n",
       "      <td>begin-month</td>\n",
       "      <td>morning</td>\n",
       "      <td>5.0</td>\n",
       "      <td>begin-month</td>\n",
       "      <td>evening</td>\n",
       "      <td>1</td>\n",
       "      <td>1.0</td>\n",
       "    </tr>\n",
       "    <tr>\n",
       "      <th>1</th>\n",
       "      <td>67750712</td>\n",
       "      <td>5.0</td>\n",
       "      <td>1</td>\n",
       "      <td>1</td>\n",
       "      <td>1</td>\n",
       "      <td>195.31</td>\n",
       "      <td>195.31</td>\n",
       "      <td>1</td>\n",
       "      <td>begin-month</td>\n",
       "      <td>afternoon</td>\n",
       "      <td>2.0</td>\n",
       "      <td>begin-month</td>\n",
       "      <td>afternoon</td>\n",
       "      <td>1</td>\n",
       "      <td>1.0</td>\n",
       "    </tr>\n",
       "    <tr>\n",
       "      <th>2</th>\n",
       "      <td>49392394</td>\n",
       "      <td>5.0</td>\n",
       "      <td>3</td>\n",
       "      <td>1</td>\n",
       "      <td>1</td>\n",
       "      <td>22.74</td>\n",
       "      <td>22.74</td>\n",
       "      <td>1</td>\n",
       "      <td>begin-month</td>\n",
       "      <td>evening</td>\n",
       "      <td>5.0</td>\n",
       "      <td>mid-month</td>\n",
       "      <td>afternoon</td>\n",
       "      <td>1</td>\n",
       "      <td>1.0</td>\n",
       "    </tr>\n",
       "    <tr>\n",
       "      <th>3</th>\n",
       "      <td>95606781</td>\n",
       "      <td>5.0</td>\n",
       "      <td>1</td>\n",
       "      <td>1</td>\n",
       "      <td>1</td>\n",
       "      <td>102.80</td>\n",
       "      <td>102.8</td>\n",
       "      <td>5</td>\n",
       "      <td>begin-month</td>\n",
       "      <td>morning</td>\n",
       "      <td>6.0</td>\n",
       "      <td>begin-month</td>\n",
       "      <td>evening</td>\n",
       "      <td>1</td>\n",
       "      <td>1.0</td>\n",
       "    </tr>\n",
       "    <tr>\n",
       "      <th>4</th>\n",
       "      <td>118745768</td>\n",
       "      <td>5.0</td>\n",
       "      <td>3</td>\n",
       "      <td>1</td>\n",
       "      <td>1</td>\n",
       "      <td>22.76</td>\n",
       "      <td>22.76</td>\n",
       "      <td>7</td>\n",
       "      <td>mid-month</td>\n",
       "      <td>afternoon</td>\n",
       "      <td>3.0</td>\n",
       "      <td>mid-month</td>\n",
       "      <td>afternoon</td>\n",
       "      <td>1</td>\n",
       "      <td>1.0</td>\n",
       "    </tr>\n",
       "  </tbody>\n",
       "</table>\n",
       "</div>"
      ],
      "text/plain": [
       "    order_id  Logistics_review_score sent_duration  items  quantity  \\\n",
       "0     603360                     3.0             4      1         1   \n",
       "1   67750712                     5.0             1      1         1   \n",
       "2   49392394                     5.0             3      1         1   \n",
       "3   95606781                     5.0             1      1         1   \n",
       "4  118745768                     5.0             3      1         1   \n",
       "\n",
       "   purchase_value purchase_value_category  order_dayOfWeek  \\\n",
       "0           14.16                   14.16                1   \n",
       "1          195.31                  195.31                1   \n",
       "2           22.74                   22.74                1   \n",
       "3          102.80                   102.8                5   \n",
       "4           22.76                   22.76                7   \n",
       "\n",
       "  order_month_duration order_day_duration  signed_dayOfWeek  \\\n",
       "0          begin-month            morning               5.0   \n",
       "1          begin-month          afternoon               2.0   \n",
       "2          begin-month            evening               5.0   \n",
       "3          begin-month            morning               6.0   \n",
       "4            mid-month          afternoon               3.0   \n",
       "\n",
       "  signed_month_duration signed_day_duration  order_month  signed_month  \n",
       "0           begin-month             evening            1           1.0  \n",
       "1           begin-month           afternoon            1           1.0  \n",
       "2             mid-month           afternoon            1           1.0  \n",
       "3           begin-month             evening            1           1.0  \n",
       "4             mid-month           afternoon            1           1.0  "
      ]
     },
     "execution_count": 113,
     "metadata": {},
     "output_type": "execute_result"
    }
   ],
   "source": [
    "# order_arrival = logistic[logistic['action']=='SIGNED'][['order_id','action','timestamp']]\n",
    "# order_arrival['month'] = order_arrival['timestamp'].apply(lambda x: dt.datetime.strptime(x, '%Y-%m-%d %H:%M:%S').month)\n",
    "# order_arrival['dayOfWeek'] = order_arrival['timestamp'].apply(lambda x: dt.datetime.strptime(x, '%Y-%m-%d %H:%M:%S').weekday()+1)\n",
    "# order_arrival['day'] = order_arrival['timestamp'].apply(lambda x: dt.datetime.strptime(x, '%Y-%m-%d %H:%M:%S').day)\n",
    "# order_arrival['hour'] = order_arrival['timestamp'].apply(lambda x: dt.datetime.strptime(x, '%Y-%m-%d %H:%M:%S').hour)\n",
    "# order['month'] = order['pay_timestamp'].apply(lambda x: dt.datetime.strptime(x, '%Y-%m-%d %H:%M:%S').month)\n",
    "# order['dayOfWeek'] = order['pay_timestamp'].apply(lambda x: dt.datetime.strptime(x, '%Y-%m-%d %H:%M:%S').weekday()+1)\n",
    "# order['day'] = order['pay_timestamp'].apply(lambda x: dt.datetime.strptime(x, '%Y-%m-%d %H:%M:%S').day)\n",
    "# order['hour'] = order['pay_timestamp'].apply(lambda x: dt.datetime.strptime(x, '%Y-%m-%d %H:%M:%S').hour)\n",
    "\n",
    "# md_condlist = [\n",
    "#     order_arrival['day']<=10,\n",
    "#     (order_arrival['day']>=11)&(order_arrival['day']<=20),\n",
    "#     order_arrival['day']>=21\n",
    "# ]\n",
    "# md_choslist = ['begin-month','mid-month','bottom-month']\n",
    "# order_arrival['month_duration'] = np.select(condlist=md_condlist, choicelist=md_choslist, default='None')\n",
    "# md_condlist = [\n",
    "#     order['day']<=10,\n",
    "#     (order['day']>=11)&(order['day']<=20),\n",
    "#     order['day']>=21\n",
    "# ]\n",
    "# md_choslist = ['begin-month','mid-month','bottom-month']\n",
    "# order['month_duration'] = np.select(condlist=md_condlist, choicelist=md_choslist, default='None')\n",
    "\n",
    "# dd_condlist = [\n",
    "#     order_arrival['hour']<=5,\n",
    "#     (order_arrival['hour']>=6)&(order_arrival['hour']<=11),\n",
    "#     (order_arrival['hour']>=12)&(order_arrival['hour']<=17),\n",
    "#     order_arrival['hour']>=18\n",
    "# ]\n",
    "# dd_choslist = ['midnight','morning','afternoon','evening']  # 6-11, 12-17, 18-23, 0-5 (GMT+8)\n",
    "# order_arrival['day_duration'] = np.select(condlist=dd_condlist, choicelist=dd_choslist, default='None')\n",
    "# dd_condlist = [\n",
    "#     order['hour']<=5,\n",
    "#     (order['hour']>=6)&(order['hour']<=11),\n",
    "#     (order['hour']>=12)&(order['hour']<=17),\n",
    "#     order['hour']>=18\n",
    "# ]\n",
    "# dd_choslist = ['midnight','morning','afternoon','evening']  # 6-11, 12-17, 18-23, 0-5 (GMT+8)\n",
    "# order['day_duration'] = np.select(condlist=dd_condlist, choicelist=dd_choslist, default='None')\n",
    "\n",
    "# df_sent_times = pd.merge(df_sent_times, order[['order_id','month','dayOfWeek','month_duration','day_duration']], \n",
    "#                          on='order_id', how='left')\n",
    "# df_sent_times = df_sent_times.rename(columns={\n",
    "#     'month': 'order_month',\n",
    "#     'dayOfWeek': 'order_dayOfWeek',\n",
    "#     'month_duration': 'order_month_duration',\n",
    "#     'day_duration': 'order_day_duration'\n",
    "# })\n",
    "\n",
    "# df_sent_times = pd.merge(df_sent_times, order_arrival[['order_id','month','dayOfWeek','month_duration','day_duration']], \n",
    "#                          on='order_id', how='left')\n",
    "# df_sent_times = df_sent_times.rename(columns={\n",
    "#     'month': 'signed_month',\n",
    "#     'dayOfWeek': 'signed_dayOfWeek',\n",
    "#     'month_duration': 'signed_month_duration',\n",
    "#     'day_duration': 'signed_day_duration'\n",
    "# })\n",
    "# df_sent_times = df_sent_times[~df_sent_times['signed_dayOfWeek'].isnull()]\n",
    "\n",
    "df_sent_times.head()"
   ]
  },
  {
   "cell_type": "markdown",
   "metadata": {},
   "source": [
    "##### 星期幾"
   ]
  },
  {
   "cell_type": "code",
   "execution_count": 147,
   "metadata": {
    "scrolled": false
   },
   "outputs": [
    {
     "data": {
      "text/html": [
       "<div>\n",
       "<style scoped>\n",
       "    .dataframe tbody tr th:only-of-type {\n",
       "        vertical-align: middle;\n",
       "    }\n",
       "\n",
       "    .dataframe tbody tr th {\n",
       "        vertical-align: top;\n",
       "    }\n",
       "\n",
       "    .dataframe thead th {\n",
       "        text-align: right;\n",
       "    }\n",
       "</style>\n",
       "<table border=\"1\" class=\"dataframe\">\n",
       "  <thead>\n",
       "    <tr style=\"text-align: right;\">\n",
       "      <th></th>\n",
       "      <th>order_month</th>\n",
       "      <th>count</th>\n",
       "    </tr>\n",
       "  </thead>\n",
       "  <tbody>\n",
       "    <tr>\n",
       "      <th>0</th>\n",
       "      <td>1</td>\n",
       "      <td>102698</td>\n",
       "    </tr>\n",
       "  </tbody>\n",
       "</table>\n",
       "</div>"
      ],
      "text/plain": [
       "   order_month   count\n",
       "0            1  102698"
      ]
     },
     "execution_count": 147,
     "metadata": {},
     "output_type": "execute_result"
    },
    {
     "data": {
      "text/html": [
       "<div>\n",
       "<style scoped>\n",
       "    .dataframe tbody tr th:only-of-type {\n",
       "        vertical-align: middle;\n",
       "    }\n",
       "\n",
       "    .dataframe tbody tr th {\n",
       "        vertical-align: top;\n",
       "    }\n",
       "\n",
       "    .dataframe thead th {\n",
       "        text-align: right;\n",
       "    }\n",
       "</style>\n",
       "<table border=\"1\" class=\"dataframe\">\n",
       "  <thead>\n",
       "    <tr style=\"text-align: right;\">\n",
       "      <th></th>\n",
       "      <th>order_dayOfWeek</th>\n",
       "      <th>count</th>\n",
       "    </tr>\n",
       "  </thead>\n",
       "  <tbody>\n",
       "    <tr>\n",
       "      <th>0</th>\n",
       "      <td>1</td>\n",
       "      <td>17645</td>\n",
       "    </tr>\n",
       "    <tr>\n",
       "      <th>1</th>\n",
       "      <td>2</td>\n",
       "      <td>17619</td>\n",
       "    </tr>\n",
       "    <tr>\n",
       "      <th>2</th>\n",
       "      <td>3</td>\n",
       "      <td>14476</td>\n",
       "    </tr>\n",
       "    <tr>\n",
       "      <th>3</th>\n",
       "      <td>4</td>\n",
       "      <td>11600</td>\n",
       "    </tr>\n",
       "    <tr>\n",
       "      <th>4</th>\n",
       "      <td>5</td>\n",
       "      <td>10268</td>\n",
       "    </tr>\n",
       "    <tr>\n",
       "      <th>5</th>\n",
       "      <td>6</td>\n",
       "      <td>9988</td>\n",
       "    </tr>\n",
       "    <tr>\n",
       "      <th>6</th>\n",
       "      <td>7</td>\n",
       "      <td>21102</td>\n",
       "    </tr>\n",
       "  </tbody>\n",
       "</table>\n",
       "</div>"
      ],
      "text/plain": [
       "   order_dayOfWeek  count\n",
       "0                1  17645\n",
       "1                2  17619\n",
       "2                3  14476\n",
       "3                4  11600\n",
       "4                5  10268\n",
       "5                6   9988\n",
       "6                7  21102"
      ]
     },
     "execution_count": 147,
     "metadata": {},
     "output_type": "execute_result"
    },
    {
     "data": {
      "text/html": [
       "<div>\n",
       "<style scoped>\n",
       "    .dataframe tbody tr th:only-of-type {\n",
       "        vertical-align: middle;\n",
       "    }\n",
       "\n",
       "    .dataframe tbody tr th {\n",
       "        vertical-align: top;\n",
       "    }\n",
       "\n",
       "    .dataframe thead th {\n",
       "        text-align: right;\n",
       "    }\n",
       "</style>\n",
       "<table border=\"1\" class=\"dataframe\">\n",
       "  <thead>\n",
       "    <tr style=\"text-align: right;\">\n",
       "      <th></th>\n",
       "      <th>order_month_duration</th>\n",
       "      <th>count</th>\n",
       "    </tr>\n",
       "  </thead>\n",
       "  <tbody>\n",
       "    <tr>\n",
       "      <th>0</th>\n",
       "      <td>begin-month</td>\n",
       "      <td>51438</td>\n",
       "    </tr>\n",
       "    <tr>\n",
       "      <th>1</th>\n",
       "      <td>bottom-month</td>\n",
       "      <td>12361</td>\n",
       "    </tr>\n",
       "    <tr>\n",
       "      <th>2</th>\n",
       "      <td>mid-month</td>\n",
       "      <td>38899</td>\n",
       "    </tr>\n",
       "  </tbody>\n",
       "</table>\n",
       "</div>"
      ],
      "text/plain": [
       "  order_month_duration  count\n",
       "0          begin-month  51438\n",
       "1         bottom-month  12361\n",
       "2            mid-month  38899"
      ]
     },
     "execution_count": 147,
     "metadata": {},
     "output_type": "execute_result"
    },
    {
     "data": {
      "text/html": [
       "<div>\n",
       "<style scoped>\n",
       "    .dataframe tbody tr th:only-of-type {\n",
       "        vertical-align: middle;\n",
       "    }\n",
       "\n",
       "    .dataframe tbody tr th {\n",
       "        vertical-align: top;\n",
       "    }\n",
       "\n",
       "    .dataframe thead th {\n",
       "        text-align: right;\n",
       "    }\n",
       "</style>\n",
       "<table border=\"1\" class=\"dataframe\">\n",
       "  <thead>\n",
       "    <tr style=\"text-align: right;\">\n",
       "      <th></th>\n",
       "      <th>order_day_duration</th>\n",
       "      <th>count</th>\n",
       "    </tr>\n",
       "  </thead>\n",
       "  <tbody>\n",
       "    <tr>\n",
       "      <th>0</th>\n",
       "      <td>afternoon</td>\n",
       "      <td>37127</td>\n",
       "    </tr>\n",
       "    <tr>\n",
       "      <th>1</th>\n",
       "      <td>evening</td>\n",
       "      <td>33379</td>\n",
       "    </tr>\n",
       "    <tr>\n",
       "      <th>2</th>\n",
       "      <td>midnight</td>\n",
       "      <td>7337</td>\n",
       "    </tr>\n",
       "    <tr>\n",
       "      <th>3</th>\n",
       "      <td>morning</td>\n",
       "      <td>24855</td>\n",
       "    </tr>\n",
       "  </tbody>\n",
       "</table>\n",
       "</div>"
      ],
      "text/plain": [
       "  order_day_duration  count\n",
       "0          afternoon  37127\n",
       "1            evening  33379\n",
       "2           midnight   7337\n",
       "3            morning  24855"
      ]
     },
     "execution_count": 147,
     "metadata": {},
     "output_type": "execute_result"
    },
    {
     "data": {
      "text/html": [
       "<div>\n",
       "<style scoped>\n",
       "    .dataframe tbody tr th:only-of-type {\n",
       "        vertical-align: middle;\n",
       "    }\n",
       "\n",
       "    .dataframe tbody tr th {\n",
       "        vertical-align: top;\n",
       "    }\n",
       "\n",
       "    .dataframe thead th {\n",
       "        text-align: right;\n",
       "    }\n",
       "</style>\n",
       "<table border=\"1\" class=\"dataframe\">\n",
       "  <thead>\n",
       "    <tr style=\"text-align: right;\">\n",
       "      <th></th>\n",
       "      <th>signed_month</th>\n",
       "      <th>count</th>\n",
       "    </tr>\n",
       "  </thead>\n",
       "  <tbody>\n",
       "    <tr>\n",
       "      <th>0</th>\n",
       "      <td>1.0</td>\n",
       "      <td>93435</td>\n",
       "    </tr>\n",
       "    <tr>\n",
       "      <th>1</th>\n",
       "      <td>2.0</td>\n",
       "      <td>8512</td>\n",
       "    </tr>\n",
       "    <tr>\n",
       "      <th>2</th>\n",
       "      <td>11.0</td>\n",
       "      <td>6</td>\n",
       "    </tr>\n",
       "    <tr>\n",
       "      <th>3</th>\n",
       "      <td>12.0</td>\n",
       "      <td>4</td>\n",
       "    </tr>\n",
       "  </tbody>\n",
       "</table>\n",
       "</div>"
      ],
      "text/plain": [
       "   signed_month  count\n",
       "0           1.0  93435\n",
       "1           2.0   8512\n",
       "2          11.0      6\n",
       "3          12.0      4"
      ]
     },
     "execution_count": 147,
     "metadata": {},
     "output_type": "execute_result"
    },
    {
     "data": {
      "text/html": [
       "<div>\n",
       "<style scoped>\n",
       "    .dataframe tbody tr th:only-of-type {\n",
       "        vertical-align: middle;\n",
       "    }\n",
       "\n",
       "    .dataframe tbody tr th {\n",
       "        vertical-align: top;\n",
       "    }\n",
       "\n",
       "    .dataframe thead th {\n",
       "        text-align: right;\n",
       "    }\n",
       "</style>\n",
       "<table border=\"1\" class=\"dataframe\">\n",
       "  <thead>\n",
       "    <tr style=\"text-align: right;\">\n",
       "      <th></th>\n",
       "      <th>signed_dayOfWeek</th>\n",
       "      <th>count</th>\n",
       "    </tr>\n",
       "  </thead>\n",
       "  <tbody>\n",
       "    <tr>\n",
       "      <th>0</th>\n",
       "      <td>1.0</td>\n",
       "      <td>14557</td>\n",
       "    </tr>\n",
       "    <tr>\n",
       "      <th>1</th>\n",
       "      <td>2.0</td>\n",
       "      <td>15502</td>\n",
       "    </tr>\n",
       "    <tr>\n",
       "      <th>2</th>\n",
       "      <td>3.0</td>\n",
       "      <td>16010</td>\n",
       "    </tr>\n",
       "    <tr>\n",
       "      <th>3</th>\n",
       "      <td>4.0</td>\n",
       "      <td>15863</td>\n",
       "    </tr>\n",
       "    <tr>\n",
       "      <th>4</th>\n",
       "      <td>5.0</td>\n",
       "      <td>15038</td>\n",
       "    </tr>\n",
       "    <tr>\n",
       "      <th>5</th>\n",
       "      <td>6.0</td>\n",
       "      <td>12848</td>\n",
       "    </tr>\n",
       "    <tr>\n",
       "      <th>6</th>\n",
       "      <td>7.0</td>\n",
       "      <td>12139</td>\n",
       "    </tr>\n",
       "  </tbody>\n",
       "</table>\n",
       "</div>"
      ],
      "text/plain": [
       "   signed_dayOfWeek  count\n",
       "0               1.0  14557\n",
       "1               2.0  15502\n",
       "2               3.0  16010\n",
       "3               4.0  15863\n",
       "4               5.0  15038\n",
       "5               6.0  12848\n",
       "6               7.0  12139"
      ]
     },
     "execution_count": 147,
     "metadata": {},
     "output_type": "execute_result"
    },
    {
     "data": {
      "text/html": [
       "<div>\n",
       "<style scoped>\n",
       "    .dataframe tbody tr th:only-of-type {\n",
       "        vertical-align: middle;\n",
       "    }\n",
       "\n",
       "    .dataframe tbody tr th {\n",
       "        vertical-align: top;\n",
       "    }\n",
       "\n",
       "    .dataframe thead th {\n",
       "        text-align: right;\n",
       "    }\n",
       "</style>\n",
       "<table border=\"1\" class=\"dataframe\">\n",
       "  <thead>\n",
       "    <tr style=\"text-align: right;\">\n",
       "      <th></th>\n",
       "      <th>signed_month_duration</th>\n",
       "      <th>count</th>\n",
       "    </tr>\n",
       "  </thead>\n",
       "  <tbody>\n",
       "    <tr>\n",
       "      <th>0</th>\n",
       "      <td>begin-month</td>\n",
       "      <td>41858</td>\n",
       "    </tr>\n",
       "    <tr>\n",
       "      <th>1</th>\n",
       "      <td>bottom-month</td>\n",
       "      <td>13353</td>\n",
       "    </tr>\n",
       "    <tr>\n",
       "      <th>2</th>\n",
       "      <td>mid-month</td>\n",
       "      <td>46746</td>\n",
       "    </tr>\n",
       "  </tbody>\n",
       "</table>\n",
       "</div>"
      ],
      "text/plain": [
       "  signed_month_duration  count\n",
       "0           begin-month  41858\n",
       "1          bottom-month  13353\n",
       "2             mid-month  46746"
      ]
     },
     "execution_count": 147,
     "metadata": {},
     "output_type": "execute_result"
    },
    {
     "data": {
      "text/html": [
       "<div>\n",
       "<style scoped>\n",
       "    .dataframe tbody tr th:only-of-type {\n",
       "        vertical-align: middle;\n",
       "    }\n",
       "\n",
       "    .dataframe tbody tr th {\n",
       "        vertical-align: top;\n",
       "    }\n",
       "\n",
       "    .dataframe thead th {\n",
       "        text-align: right;\n",
       "    }\n",
       "</style>\n",
       "<table border=\"1\" class=\"dataframe\">\n",
       "  <thead>\n",
       "    <tr style=\"text-align: right;\">\n",
       "      <th></th>\n",
       "      <th>signed_day_duration</th>\n",
       "      <th>count</th>\n",
       "    </tr>\n",
       "  </thead>\n",
       "  <tbody>\n",
       "    <tr>\n",
       "      <th>0</th>\n",
       "      <td>afternoon</td>\n",
       "      <td>56293</td>\n",
       "    </tr>\n",
       "    <tr>\n",
       "      <th>1</th>\n",
       "      <td>evening</td>\n",
       "      <td>32778</td>\n",
       "    </tr>\n",
       "    <tr>\n",
       "      <th>2</th>\n",
       "      <td>midnight</td>\n",
       "      <td>204</td>\n",
       "    </tr>\n",
       "    <tr>\n",
       "      <th>3</th>\n",
       "      <td>morning</td>\n",
       "      <td>12682</td>\n",
       "    </tr>\n",
       "  </tbody>\n",
       "</table>\n",
       "</div>"
      ],
      "text/plain": [
       "  signed_day_duration  count\n",
       "0           afternoon  56293\n",
       "1             evening  32778\n",
       "2            midnight    204\n",
       "3             morning  12682"
      ]
     },
     "execution_count": 147,
     "metadata": {},
     "output_type": "execute_result"
    },
    {
     "data": {
      "text/plain": [
       "<Figure size 1152x576 with 0 Axes>"
      ]
     },
     "execution_count": 147,
     "metadata": {},
     "output_type": "execute_result"
    },
    {
     "data": {
      "text/plain": [
       "<BarContainer object of 5 artists>"
      ]
     },
     "execution_count": 147,
     "metadata": {},
     "output_type": "execute_result"
    },
    {
     "data": {
      "text/plain": [
       "<BarContainer object of 5 artists>"
      ]
     },
     "execution_count": 147,
     "metadata": {},
     "output_type": "execute_result"
    },
    {
     "data": {
      "text/plain": [
       "<BarContainer object of 5 artists>"
      ]
     },
     "execution_count": 147,
     "metadata": {},
     "output_type": "execute_result"
    },
    {
     "data": {
      "text/plain": [
       "<BarContainer object of 5 artists>"
      ]
     },
     "execution_count": 147,
     "metadata": {},
     "output_type": "execute_result"
    },
    {
     "data": {
      "text/plain": [
       "<BarContainer object of 5 artists>"
      ]
     },
     "execution_count": 147,
     "metadata": {},
     "output_type": "execute_result"
    },
    {
     "data": {
      "text/plain": [
       "<BarContainer object of 5 artists>"
      ]
     },
     "execution_count": 147,
     "metadata": {},
     "output_type": "execute_result"
    },
    {
     "data": {
      "text/plain": [
       "<BarContainer object of 5 artists>"
      ]
     },
     "execution_count": 147,
     "metadata": {},
     "output_type": "execute_result"
    },
    {
     "data": {
      "text/plain": [
       "<matplotlib.legend.Legend at 0x1e4e24caac8>"
      ]
     },
     "execution_count": 147,
     "metadata": {},
     "output_type": "execute_result"
    },
    {
     "data": {
      "image/png": "[encoded data removed]",
      "text/plain": [
       "<Figure size 1152x576 with 1 Axes>"
      ]
     },
     "metadata": {
      "needs_background": "light"
     },
     "output_type": "display_data"
    },
    {
     "data": {
      "text/plain": [
       "<Figure size 1152x576 with 0 Axes>"
      ]
     },
     "execution_count": 147,
     "metadata": {},
     "output_type": "execute_result"
    },
    {
     "data": {
      "text/plain": [
       "<BarContainer object of 5 artists>"
      ]
     },
     "execution_count": 147,
     "metadata": {},
     "output_type": "execute_result"
    },
    {
     "data": {
      "text/plain": [
       "<BarContainer object of 5 artists>"
      ]
     },
     "execution_count": 147,
     "metadata": {},
     "output_type": "execute_result"
    },
    {
     "data": {
      "text/plain": [
       "<BarContainer object of 5 artists>"
      ]
     },
     "execution_count": 147,
     "metadata": {},
     "output_type": "execute_result"
    },
    {
     "data": {
      "text/plain": [
       "<BarContainer object of 5 artists>"
      ]
     },
     "execution_count": 147,
     "metadata": {},
     "output_type": "execute_result"
    },
    {
     "data": {
      "text/plain": [
       "<BarContainer object of 5 artists>"
      ]
     },
     "execution_count": 147,
     "metadata": {},
     "output_type": "execute_result"
    },
    {
     "data": {
      "text/plain": [
       "<BarContainer object of 5 artists>"
      ]
     },
     "execution_count": 147,
     "metadata": {},
     "output_type": "execute_result"
    },
    {
     "data": {
      "text/plain": [
       "<BarContainer object of 5 artists>"
      ]
     },
     "execution_count": 147,
     "metadata": {},
     "output_type": "execute_result"
    },
    {
     "data": {
      "text/plain": [
       "<matplotlib.legend.Legend at 0x1e4e2398f88>"
      ]
     },
     "execution_count": 147,
     "metadata": {},
     "output_type": "execute_result"
    },
    {
     "data": {
      "image/png": "[encoded data removed]",
      "text/plain": [
       "<Figure size 1152x576 with 1 Axes>"
      ]
     },
     "metadata": {
      "needs_background": "light"
     },
     "output_type": "display_data"
    }
   ],
   "source": [
    "df_sent_times.groupby('order_month').size().reset_index().rename(columns={0: 'count'})\n",
    "df_sent_times.groupby('order_dayOfWeek').size().reset_index().rename(columns={0: 'count'})\n",
    "df_sent_times.groupby('order_month_duration').size().reset_index().rename(columns={0: 'count'})\n",
    "df_sent_times.groupby('order_day_duration').size().reset_index().rename(columns={0: 'count'})\n",
    "df_sent_times.groupby('signed_month').size().reset_index().rename(columns={0: 'count'})\n",
    "df_sent_times.groupby('signed_dayOfWeek').size().reset_index().rename(columns={0: 'count'})\n",
    "df_sent_times.groupby('signed_month_duration').size().reset_index().rename(columns={0: 'count'})\n",
    "df_sent_times.groupby('signed_day_duration').size().reset_index().rename(columns={0: 'count'})\n",
    "\n",
    "x_vals = range(5)\n",
    "plt.figure(figsize=(16, 8))\n",
    "plt.bar([x-0.1*3 for x in x_vals], \n",
    "        df_sent_times[df_sent_times['order_dayOfWeek']==1].groupby('Logistics_review_score').size().values/df_sent_times[df_sent_times['order_dayOfWeek']==1].groupby('Logistics_review_score').size().values.sum(), \n",
    "        width=0.1, \n",
    "        tick_label=sorted(df_sent_times.Logistics_review_score.unique().tolist()))\n",
    "plt.bar([x-0.1*2 for x in x_vals], \n",
    "        df_sent_times[df_sent_times['order_dayOfWeek']==2].groupby('Logistics_review_score').size().values/df_sent_times[df_sent_times['order_dayOfWeek']==2].groupby('Logistics_review_score').size().values.sum(), \n",
    "        width=0.1)\n",
    "plt.bar([x-0.1 for x in x_vals], \n",
    "        df_sent_times[df_sent_times['order_dayOfWeek']==3].groupby('Logistics_review_score').size().values/df_sent_times[df_sent_times['order_dayOfWeek']==3].groupby('Logistics_review_score').size().values.sum(), \n",
    "        width=0.1)\n",
    "plt.bar([x for x in x_vals], \n",
    "        df_sent_times[df_sent_times['order_dayOfWeek']==4].groupby('Logistics_review_score').size().values/df_sent_times[df_sent_times['order_dayOfWeek']==4].groupby('Logistics_review_score').size().values.sum(), \n",
    "        width=0.1)\n",
    "plt.bar([x+0.1 for x in x_vals], \n",
    "        df_sent_times[df_sent_times['order_dayOfWeek']==5].groupby('Logistics_review_score').size().values/df_sent_times[df_sent_times['order_dayOfWeek']==5].groupby('Logistics_review_score').size().values.sum(), \n",
    "        width=0.1)\n",
    "plt.bar([x+0.1*2 for x in x_vals], \n",
    "        df_sent_times[df_sent_times['order_dayOfWeek']==6].groupby('Logistics_review_score').size().values/df_sent_times[df_sent_times['order_dayOfWeek']==6].groupby('Logistics_review_score').size().values.sum(), \n",
    "        width=0.1)\n",
    "plt.bar([x+0.1*3 for x in x_vals], \n",
    "        df_sent_times[df_sent_times['order_dayOfWeek']==7].groupby('Logistics_review_score').size().values/df_sent_times[df_sent_times['order_dayOfWeek']==7].groupby('Logistics_review_score').size().values.sum(), \n",
    "        width=0.1)\n",
    "plt.legend(['dayOfWeek: '+str(x) for x in sorted(df_sent_times.order_dayOfWeek.unique().tolist())], loc=\"upper left\")\n",
    "plt.show()\n",
    "\n",
    "\n",
    "plt.figure(figsize=(16, 8))\n",
    "plt.bar([x-0.1*3 for x in x_vals], \n",
    "        df_sent_times[df_sent_times['signed_dayOfWeek']==1].groupby('Logistics_review_score').size().values/df_sent_times[df_sent_times['signed_dayOfWeek']==1].groupby('Logistics_review_score').size().values.sum(), \n",
    "        width=0.1, \n",
    "        tick_label=sorted(df_sent_times.Logistics_review_score.unique().tolist()))\n",
    "plt.bar([x-0.1*2 for x in x_vals], \n",
    "        df_sent_times[df_sent_times['signed_dayOfWeek']==2].groupby('Logistics_review_score').size().values/df_sent_times[df_sent_times['signed_dayOfWeek']==2].groupby('Logistics_review_score').size().values.sum(), \n",
    "        width=0.1)\n",
    "plt.bar([x-0.1 for x in x_vals], \n",
    "        df_sent_times[df_sent_times['signed_dayOfWeek']==3].groupby('Logistics_review_score').size().values/df_sent_times[df_sent_times['signed_dayOfWeek']==3].groupby('Logistics_review_score').size().values.sum(), \n",
    "        width=0.1)\n",
    "plt.bar([x for x in x_vals], \n",
    "        df_sent_times[df_sent_times['signed_dayOfWeek']==4].groupby('Logistics_review_score').size().values/df_sent_times[df_sent_times['signed_dayOfWeek']==4].groupby('Logistics_review_score').size().values.sum(), \n",
    "        width=0.1)\n",
    "plt.bar([x+0.1 for x in x_vals], \n",
    "        df_sent_times[df_sent_times['signed_dayOfWeek']==5].groupby('Logistics_review_score').size().values/df_sent_times[df_sent_times['signed_dayOfWeek']==5].groupby('Logistics_review_score').size().values.sum(), \n",
    "        width=0.1)\n",
    "plt.bar([x+0.1*2 for x in x_vals], \n",
    "        df_sent_times[df_sent_times['signed_dayOfWeek']==6].groupby('Logistics_review_score').size().values/df_sent_times[df_sent_times['signed_dayOfWeek']==6].groupby('Logistics_review_score').size().values.sum(), \n",
    "        width=0.1)\n",
    "plt.bar([x+0.1*3 for x in x_vals], \n",
    "        df_sent_times[df_sent_times['signed_dayOfWeek']==7].groupby('Logistics_review_score').size().values/df_sent_times[df_sent_times['signed_dayOfWeek']==7].groupby('Logistics_review_score').size().values.sum(), \n",
    "        width=0.1)\n",
    "plt.legend(['dayOfWeek: '+str(x) for x in sorted(df_sent_times.signed_dayOfWeek.unique().tolist())], loc=\"upper left\")\n",
    "plt.show()\n"
   ]
  },
  {
   "cell_type": "markdown",
   "metadata": {},
   "source": [
    "##### 日期 (月初、月中、月末)"
   ]
  },
  {
   "cell_type": "code",
   "execution_count": 148,
   "metadata": {},
   "outputs": [
    {
     "data": {
      "image/png": "[encoded data removed]",
      "text/plain": [
       "<Figure size 1152x576 with 1 Axes>"
      ]
     },
     "metadata": {
      "needs_background": "light"
     },
     "output_type": "display_data"
    },
    {
     "data": {
      "image/png": "[encoded data removed]",
      "text/plain": [
       "<Figure size 1152x576 with 1 Axes>"
      ]
     },
     "metadata": {
      "needs_background": "light"
     },
     "output_type": "display_data"
    }
   ],
   "source": [
    "x_vals = range(5)\n",
    "plt.figure(figsize=(16, 8))\n",
    "plt.bar([x-0.1*3 for x in x_vals], \n",
    "        df_sent_times[df_sent_times['order_month_duration']=='begin-month'].groupby('Logistics_review_score').size().values/df_sent_times[df_sent_times['order_month_duration']=='begin-month'].groupby('Logistics_review_score').size().values.sum(), \n",
    "        width=0.1, \n",
    "        tick_label=sorted(df_sent_times.Logistics_review_score.unique().tolist()))\n",
    "plt.bar([x-0.1*2 for x in x_vals], \n",
    "        df_sent_times[df_sent_times['order_month_duration']=='mid-month'].groupby('Logistics_review_score').size().values/df_sent_times[df_sent_times['order_month_duration']=='mid-month'].groupby('Logistics_review_score').size().values.sum(), \n",
    "        width=0.1)\n",
    "plt.bar([x-0.1 for x in x_vals], \n",
    "        df_sent_times[df_sent_times['order_month_duration']=='bottom-month'].groupby('Logistics_review_score').size().values/df_sent_times[df_sent_times['order_month_duration']=='bottom-month'].groupby('Logistics_review_score').size().values.sum(), \n",
    "        width=0.1)\n",
    "plt.legend(['begin-month','mid-month','bottom-month'], loc=\"upper left\")\n",
    "plt.show()\n",
    "\n",
    "\n",
    "x_vals = range(5)\n",
    "plt.figure(figsize=(16, 8))\n",
    "plt.bar([x-0.1*3 for x in x_vals], \n",
    "        df_sent_times[df_sent_times['signed_month_duration']=='begin-month'].groupby('Logistics_review_score').size().values/df_sent_times[df_sent_times['signed_month_duration']=='begin-month'].groupby('Logistics_review_score').size().values.sum(), \n",
    "        width=0.1, \n",
    "        tick_label=sorted(df_sent_times.Logistics_review_score.unique().tolist()))\n",
    "plt.bar([x-0.1*2 for x in x_vals], \n",
    "        df_sent_times[df_sent_times['signed_month_duration']=='mid-month'].groupby('Logistics_review_score').size().values/df_sent_times[df_sent_times['signed_month_duration']=='mid-month'].groupby('Logistics_review_score').size().values.sum(), \n",
    "        width=0.1)\n",
    "plt.bar([x-0.1 for x in x_vals], \n",
    "        df_sent_times[df_sent_times['signed_month_duration']=='bottom-month'].groupby('Logistics_review_score').size().values/df_sent_times[df_sent_times['signed_month_duration']=='bottom-month'].groupby('Logistics_review_score').size().values.sum(), \n",
    "        width=0.1)\n",
    "plt.legend(['begin-month','mid-month','bottom-month'], loc=\"upper left\")\n",
    "plt.show();\n",
    "\n"
   ]
  },
  {
   "cell_type": "markdown",
   "metadata": {},
   "source": [
    "##### 一天中時段"
   ]
  },
  {
   "cell_type": "code",
   "execution_count": 149,
   "metadata": {
    "scrolled": false
   },
   "outputs": [
    {
     "data": {
      "image/png": "[encoded data removed]",
      "text/plain": [
       "<Figure size 1152x576 with 1 Axes>"
      ]
     },
     "metadata": {
      "needs_background": "light"
     },
     "output_type": "display_data"
    },
    {
     "data": {
      "image/png": "[encoded data removed]",
      "text/plain": [
       "<Figure size 1152x576 with 1 Axes>"
      ]
     },
     "metadata": {
      "needs_background": "light"
     },
     "output_type": "display_data"
    }
   ],
   "source": [
    "x_vals = range(5)\n",
    "plt.figure(figsize=(16, 8))\n",
    "plt.bar([x-0.1*2 for x in x_vals], \n",
    "        df_sent_times[df_sent_times['order_day_duration']=='morning'].groupby('Logistics_review_score').size().values/df_sent_times[df_sent_times['order_day_duration']=='morning'].groupby('Logistics_review_score').size().values.sum(), \n",
    "        width=0.1, \n",
    "        tick_label=sorted(df_sent_times.Logistics_review_score.unique().tolist()))\n",
    "plt.bar([x-0.1 for x in x_vals], \n",
    "        df_sent_times[df_sent_times['order_day_duration']=='afternoon'].groupby('Logistics_review_score').size().values/df_sent_times[df_sent_times['order_day_duration']=='afternoon'].groupby('Logistics_review_score').size().values.sum(), \n",
    "        width=0.1)\n",
    "plt.bar([x for x in x_vals], \n",
    "        df_sent_times[df_sent_times['order_day_duration']=='evening'].groupby('Logistics_review_score').size().values/df_sent_times[df_sent_times['order_day_duration']=='evening'].groupby('Logistics_review_score').size().values.sum(), \n",
    "        width=0.1)\n",
    "plt.bar([x+0.1 for x in x_vals], \n",
    "        df_sent_times[df_sent_times['order_day_duration']=='midnight'].groupby('Logistics_review_score').size().values/df_sent_times[df_sent_times['order_day_duration']=='midnight'].groupby('Logistics_review_score').size().values.sum(), \n",
    "        width=0.1)\n",
    "plt.legend(['morning','afternoon','evening','midnight'], loc=\"upper left\")\n",
    "plt.show()\n",
    "\n",
    "\n",
    "x_vals = range(5)\n",
    "plt.figure(figsize=(16, 8))\n",
    "plt.bar([x-0.1*2 for x in x_vals], \n",
    "        df_sent_times[df_sent_times['signed_day_duration']=='morning'].groupby('Logistics_review_score').size().values/df_sent_times[df_sent_times['signed_day_duration']=='morning'].groupby('Logistics_review_score').size().values.sum(), \n",
    "        width=0.1, \n",
    "        tick_label=sorted(df_sent_times.Logistics_review_score.unique().tolist()))\n",
    "plt.bar([x-0.1 for x in x_vals], \n",
    "        df_sent_times[df_sent_times['signed_day_duration']=='afternoon'].groupby('Logistics_review_score').size().values/df_sent_times[df_sent_times['signed_day_duration']=='afternoon'].groupby('Logistics_review_score').size().values.sum(), \n",
    "        width=0.1)\n",
    "plt.bar([x for x in x_vals], \n",
    "        df_sent_times[df_sent_times['signed_day_duration']=='evening'].groupby('Logistics_review_score').size().values/df_sent_times[df_sent_times['signed_day_duration']=='evening'].groupby('Logistics_review_score').size().values.sum(), \n",
    "        width=0.1)\n",
    "plt.bar([x+0.1 for x in x_vals], \n",
    "        df_sent_times[df_sent_times['signed_day_duration']=='midnight'].groupby('Logistics_review_score').size().values/df_sent_times[df_sent_times['signed_day_duration']=='midnight'].groupby('Logistics_review_score').size().values.sum(), \n",
    "        width=0.1)\n",
    "plt.legend(['morning','afternoon','evening','midnight'], loc=\"upper left\")\n",
    "plt.show();\n",
    "\n"
   ]
  },
  {
   "cell_type": "markdown",
   "metadata": {},
   "source": [
    "#### 不同用戶物流評分中，運送天數所佔比例"
   ]
  },
  {
   "cell_type": "code",
   "execution_count": 146,
   "metadata": {},
   "outputs": [
    {
     "data": {
      "text/html": [
       "<div>\n",
       "<style scoped>\n",
       "    .dataframe tbody tr th:only-of-type {\n",
       "        vertical-align: middle;\n",
       "    }\n",
       "\n",
       "    .dataframe tbody tr th {\n",
       "        vertical-align: top;\n",
       "    }\n",
       "\n",
       "    .dataframe thead th {\n",
       "        text-align: right;\n",
       "    }\n",
       "</style>\n",
       "<table border=\"1\" class=\"dataframe\">\n",
       "  <thead>\n",
       "    <tr style=\"text-align: right;\">\n",
       "      <th></th>\n",
       "      <th>order_id</th>\n",
       "      <th>Logistics_review_score</th>\n",
       "      <th>sent_duration</th>\n",
       "      <th>items</th>\n",
       "      <th>quantity</th>\n",
       "      <th>purchase_value</th>\n",
       "      <th>purchase_value_category</th>\n",
       "      <th>order_dayOfWeek</th>\n",
       "      <th>order_month_duration</th>\n",
       "      <th>order_day_duration</th>\n",
       "      <th>signed_dayOfWeek</th>\n",
       "      <th>signed_month_duration</th>\n",
       "      <th>signed_day_duration</th>\n",
       "      <th>order_month</th>\n",
       "      <th>signed_month</th>\n",
       "    </tr>\n",
       "  </thead>\n",
       "  <tbody>\n",
       "    <tr>\n",
       "      <th>0</th>\n",
       "      <td>603360</td>\n",
       "      <td>3.0</td>\n",
       "      <td>4</td>\n",
       "      <td>1</td>\n",
       "      <td>1</td>\n",
       "      <td>14.16</td>\n",
       "      <td>14.16</td>\n",
       "      <td>1</td>\n",
       "      <td>begin-month</td>\n",
       "      <td>morning</td>\n",
       "      <td>5.0</td>\n",
       "      <td>begin-month</td>\n",
       "      <td>evening</td>\n",
       "      <td>1</td>\n",
       "      <td>1.0</td>\n",
       "    </tr>\n",
       "    <tr>\n",
       "      <th>1</th>\n",
       "      <td>67750712</td>\n",
       "      <td>5.0</td>\n",
       "      <td>1</td>\n",
       "      <td>1</td>\n",
       "      <td>1</td>\n",
       "      <td>195.31</td>\n",
       "      <td>195.31</td>\n",
       "      <td>1</td>\n",
       "      <td>begin-month</td>\n",
       "      <td>afternoon</td>\n",
       "      <td>2.0</td>\n",
       "      <td>begin-month</td>\n",
       "      <td>afternoon</td>\n",
       "      <td>1</td>\n",
       "      <td>1.0</td>\n",
       "    </tr>\n",
       "    <tr>\n",
       "      <th>2</th>\n",
       "      <td>49392394</td>\n",
       "      <td>5.0</td>\n",
       "      <td>3</td>\n",
       "      <td>1</td>\n",
       "      <td>1</td>\n",
       "      <td>22.74</td>\n",
       "      <td>22.74</td>\n",
       "      <td>1</td>\n",
       "      <td>begin-month</td>\n",
       "      <td>evening</td>\n",
       "      <td>5.0</td>\n",
       "      <td>mid-month</td>\n",
       "      <td>afternoon</td>\n",
       "      <td>1</td>\n",
       "      <td>1.0</td>\n",
       "    </tr>\n",
       "    <tr>\n",
       "      <th>3</th>\n",
       "      <td>95606781</td>\n",
       "      <td>5.0</td>\n",
       "      <td>1</td>\n",
       "      <td>1</td>\n",
       "      <td>1</td>\n",
       "      <td>102.80</td>\n",
       "      <td>102.8</td>\n",
       "      <td>5</td>\n",
       "      <td>begin-month</td>\n",
       "      <td>morning</td>\n",
       "      <td>6.0</td>\n",
       "      <td>begin-month</td>\n",
       "      <td>evening</td>\n",
       "      <td>1</td>\n",
       "      <td>1.0</td>\n",
       "    </tr>\n",
       "    <tr>\n",
       "      <th>4</th>\n",
       "      <td>118745768</td>\n",
       "      <td>5.0</td>\n",
       "      <td>3</td>\n",
       "      <td>1</td>\n",
       "      <td>1</td>\n",
       "      <td>22.76</td>\n",
       "      <td>22.76</td>\n",
       "      <td>7</td>\n",
       "      <td>mid-month</td>\n",
       "      <td>afternoon</td>\n",
       "      <td>3.0</td>\n",
       "      <td>mid-month</td>\n",
       "      <td>afternoon</td>\n",
       "      <td>1</td>\n",
       "      <td>1.0</td>\n",
       "    </tr>\n",
       "  </tbody>\n",
       "</table>\n",
       "</div>"
      ],
      "text/plain": [
       "    order_id  Logistics_review_score sent_duration  items  quantity  \\\n",
       "0     603360                     3.0             4      1         1   \n",
       "1   67750712                     5.0             1      1         1   \n",
       "2   49392394                     5.0             3      1         1   \n",
       "3   95606781                     5.0             1      1         1   \n",
       "4  118745768                     5.0             3      1         1   \n",
       "\n",
       "   purchase_value purchase_value_category  order_dayOfWeek  \\\n",
       "0           14.16                   14.16                1   \n",
       "1          195.31                  195.31                1   \n",
       "2           22.74                   22.74                1   \n",
       "3          102.80                   102.8                5   \n",
       "4           22.76                   22.76                7   \n",
       "\n",
       "  order_month_duration order_day_duration  signed_dayOfWeek  \\\n",
       "0          begin-month            morning               5.0   \n",
       "1          begin-month          afternoon               2.0   \n",
       "2          begin-month            evening               5.0   \n",
       "3          begin-month            morning               6.0   \n",
       "4            mid-month          afternoon               3.0   \n",
       "\n",
       "  signed_month_duration signed_day_duration  order_month  signed_month  \n",
       "0           begin-month             evening            1           1.0  \n",
       "1           begin-month           afternoon            1           1.0  \n",
       "2             mid-month           afternoon            1           1.0  \n",
       "3           begin-month             evening            1           1.0  \n",
       "4             mid-month           afternoon            1           1.0  "
      ]
     },
     "execution_count": 146,
     "metadata": {},
     "output_type": "execute_result"
    },
    {
     "data": {
      "text/html": [
       "<div>\n",
       "<style scoped>\n",
       "    .dataframe tbody tr th:only-of-type {\n",
       "        vertical-align: middle;\n",
       "    }\n",
       "\n",
       "    .dataframe tbody tr th {\n",
       "        vertical-align: top;\n",
       "    }\n",
       "\n",
       "    .dataframe thead th {\n",
       "        text-align: right;\n",
       "    }\n",
       "</style>\n",
       "<table border=\"1\" class=\"dataframe\">\n",
       "  <thead>\n",
       "    <tr style=\"text-align: right;\">\n",
       "      <th></th>\n",
       "      <th>sent_duration</th>\n",
       "      <th>count</th>\n",
       "    </tr>\n",
       "  </thead>\n",
       "  <tbody>\n",
       "    <tr>\n",
       "      <th>0</th>\n",
       "      <td>0</td>\n",
       "      <td>4824</td>\n",
       "    </tr>\n",
       "    <tr>\n",
       "      <th>1</th>\n",
       "      <td>1</td>\n",
       "      <td>19290</td>\n",
       "    </tr>\n",
       "    <tr>\n",
       "      <th>2</th>\n",
       "      <td>10+</td>\n",
       "      <td>4041</td>\n",
       "    </tr>\n",
       "    <tr>\n",
       "      <th>3</th>\n",
       "      <td>2</td>\n",
       "      <td>24695</td>\n",
       "    </tr>\n",
       "    <tr>\n",
       "      <th>4</th>\n",
       "      <td>3</td>\n",
       "      <td>20377</td>\n",
       "    </tr>\n",
       "    <tr>\n",
       "      <th>5</th>\n",
       "      <td>4</td>\n",
       "      <td>12289</td>\n",
       "    </tr>\n",
       "    <tr>\n",
       "      <th>6</th>\n",
       "      <td>5</td>\n",
       "      <td>7072</td>\n",
       "    </tr>\n",
       "    <tr>\n",
       "      <th>7</th>\n",
       "      <td>6</td>\n",
       "      <td>4274</td>\n",
       "    </tr>\n",
       "    <tr>\n",
       "      <th>8</th>\n",
       "      <td>7</td>\n",
       "      <td>2729</td>\n",
       "    </tr>\n",
       "    <tr>\n",
       "      <th>9</th>\n",
       "      <td>8</td>\n",
       "      <td>1870</td>\n",
       "    </tr>\n",
       "    <tr>\n",
       "      <th>10</th>\n",
       "      <td>9</td>\n",
       "      <td>1237</td>\n",
       "    </tr>\n",
       "  </tbody>\n",
       "</table>\n",
       "</div>"
      ],
      "text/plain": [
       "   sent_duration  count\n",
       "0              0   4824\n",
       "1              1  19290\n",
       "2            10+   4041\n",
       "3              2  24695\n",
       "4              3  20377\n",
       "5              4  12289\n",
       "6              5   7072\n",
       "7              6   4274\n",
       "8              7   2729\n",
       "9              8   1870\n",
       "10             9   1237"
      ]
     },
     "execution_count": 146,
     "metadata": {},
     "output_type": "execute_result"
    },
    {
     "data": {
      "text/plain": [
       "<Figure size 1152x576 with 0 Axes>"
      ]
     },
     "execution_count": 146,
     "metadata": {},
     "output_type": "execute_result"
    },
    {
     "data": {
      "text/plain": [
       "<BarContainer object of 5 artists>"
      ]
     },
     "execution_count": 146,
     "metadata": {},
     "output_type": "execute_result"
    },
    {
     "data": {
      "text/plain": [
       "<BarContainer object of 5 artists>"
      ]
     },
     "execution_count": 146,
     "metadata": {},
     "output_type": "execute_result"
    },
    {
     "data": {
      "text/plain": [
       "<BarContainer object of 5 artists>"
      ]
     },
     "execution_count": 146,
     "metadata": {},
     "output_type": "execute_result"
    },
    {
     "data": {
      "text/plain": [
       "<BarContainer object of 5 artists>"
      ]
     },
     "execution_count": 146,
     "metadata": {},
     "output_type": "execute_result"
    },
    {
     "data": {
      "text/plain": [
       "<BarContainer object of 5 artists>"
      ]
     },
     "execution_count": 146,
     "metadata": {},
     "output_type": "execute_result"
    },
    {
     "data": {
      "text/plain": [
       "<BarContainer object of 5 artists>"
      ]
     },
     "execution_count": 146,
     "metadata": {},
     "output_type": "execute_result"
    },
    {
     "data": {
      "text/plain": [
       "<BarContainer object of 5 artists>"
      ]
     },
     "execution_count": 146,
     "metadata": {},
     "output_type": "execute_result"
    },
    {
     "data": {
      "text/plain": [
       "<BarContainer object of 5 artists>"
      ]
     },
     "execution_count": 146,
     "metadata": {},
     "output_type": "execute_result"
    },
    {
     "data": {
      "text/plain": [
       "<BarContainer object of 5 artists>"
      ]
     },
     "execution_count": 146,
     "metadata": {},
     "output_type": "execute_result"
    },
    {
     "data": {
      "text/plain": [
       "<BarContainer object of 5 artists>"
      ]
     },
     "execution_count": 146,
     "metadata": {},
     "output_type": "execute_result"
    },
    {
     "data": {
      "text/plain": [
       "<BarContainer object of 5 artists>"
      ]
     },
     "execution_count": 146,
     "metadata": {},
     "output_type": "execute_result"
    },
    {
     "data": {
      "text/plain": [
       "<matplotlib.legend.Legend at 0x1e4e24c5cc8>"
      ]
     },
     "execution_count": 146,
     "metadata": {},
     "output_type": "execute_result"
    },
    {
     "data": {
      "image/png": "[encoded data removed]",
      "text/plain": [
       "<Figure size 1152x576 with 1 Axes>"
      ]
     },
     "metadata": {
      "needs_background": "light"
     },
     "output_type": "display_data"
    }
   ],
   "source": [
    "df_sent_times.head()\n",
    "df_sent_times.groupby('sent_duration').size().reset_index().rename(columns={0: 'count'})\n",
    "\n",
    "x_vals = range(5)\n",
    "plt.figure(figsize=(16, 8))\n",
    "plt.bar([x-0.05*5 for x in x_vals], \n",
    "        df_sent_times[df_sent_times['sent_duration']=='0'].groupby('Logistics_review_score').size().values/df_sent_times[df_sent_times['sent_duration']=='0'].groupby('Logistics_review_score').size().values.sum(), \n",
    "        width=0.05, \n",
    "        tick_label=sorted(df_sent_times.Logistics_review_score.unique().tolist()))\n",
    "plt.bar([x-0.05*4 for x in x_vals], \n",
    "        df_sent_times[df_sent_times['sent_duration']=='1'].groupby('Logistics_review_score').size().values/df_sent_times[df_sent_times['sent_duration']=='1'].groupby('Logistics_review_score').size().values.sum(), \n",
    "        width=0.05)\n",
    "plt.bar([x-0.05*3 for x in x_vals], \n",
    "        df_sent_times[df_sent_times['sent_duration']=='2'].groupby('Logistics_review_score').size().values/df_sent_times[df_sent_times['sent_duration']=='2'].groupby('Logistics_review_score').size().values.sum(), \n",
    "        width=0.05)\n",
    "plt.bar([x-0.05*2 for x in x_vals], \n",
    "        df_sent_times[df_sent_times['sent_duration']=='3'].groupby('Logistics_review_score').size().values/df_sent_times[df_sent_times['sent_duration']=='3'].groupby('Logistics_review_score').size().values.sum(), \n",
    "        width=0.05)\n",
    "plt.bar([x-0.05 for x in x_vals], \n",
    "        df_sent_times[df_sent_times['sent_duration']=='4'].groupby('Logistics_review_score').size().values/df_sent_times[df_sent_times['sent_duration']=='4'].groupby('Logistics_review_score').size().values.sum(), \n",
    "        width=0.05)\n",
    "plt.bar([x for x in x_vals], \n",
    "        df_sent_times[df_sent_times['sent_duration']=='5'].groupby('Logistics_review_score').size().values/df_sent_times[df_sent_times['sent_duration']=='5'].groupby('Logistics_review_score').size().values.sum(), \n",
    "        width=0.05)\n",
    "plt.bar([x+0.05 for x in x_vals], \n",
    "        df_sent_times[df_sent_times['sent_duration']=='6'].groupby('Logistics_review_score').size().values/df_sent_times[df_sent_times['sent_duration']=='6'].groupby('Logistics_review_score').size().values.sum(), \n",
    "        width=0.05)\n",
    "plt.bar([x+0.05*2 for x in x_vals], \n",
    "        df_sent_times[df_sent_times['sent_duration']=='7'].groupby('Logistics_review_score').size().values/df_sent_times[df_sent_times['sent_duration']=='7'].groupby('Logistics_review_score').size().values.sum(), \n",
    "        width=0.05)\n",
    "plt.bar([x+0.05*3 for x in x_vals], \n",
    "        df_sent_times[df_sent_times['sent_duration']=='8'].groupby('Logistics_review_score').size().values/df_sent_times[df_sent_times['sent_duration']=='8'].groupby('Logistics_review_score').size().values.sum(), \n",
    "        width=0.05)\n",
    "plt.bar([x+0.05*4 for x in x_vals], \n",
    "        df_sent_times[df_sent_times['sent_duration']=='9'].groupby('Logistics_review_score').size().values/df_sent_times[df_sent_times['sent_duration']=='9'].groupby('Logistics_review_score').size().values.sum(), \n",
    "        width=0.05)\n",
    "plt.bar([x+0.05*5 for x in x_vals], \n",
    "        df_sent_times[df_sent_times['sent_duration']=='10+'].groupby('Logistics_review_score').size().values/df_sent_times[df_sent_times['sent_duration']=='10+'].groupby('Logistics_review_score').size().values.sum(), \n",
    "        width=0.05)\n",
    "plt.legend(['sent_day: '+str(x) for x in ['0','1','2','3','4','5','6','7','8','9','10+']], loc=\"upper left\")\n",
    "plt.show()\n"
   ]
  },
  {
   "cell_type": "markdown",
   "metadata": {},
   "source": [
    "#### 不同運送天數所獲評分比例"
   ]
  },
  {
   "cell_type": "code",
   "execution_count": 145,
   "metadata": {
    "scrolled": false
   },
   "outputs": [
    {
     "data": {
      "text/plain": [
       "<Figure size 1728x864 with 0 Axes>"
      ]
     },
     "execution_count": 145,
     "metadata": {},
     "output_type": "execute_result"
    },
    {
     "data": {
      "text/plain": [
       "<BarContainer object of 11 artists>"
      ]
     },
     "execution_count": 145,
     "metadata": {},
     "output_type": "execute_result"
    },
    {
     "data": {
      "text/plain": [
       "<BarContainer object of 11 artists>"
      ]
     },
     "execution_count": 145,
     "metadata": {},
     "output_type": "execute_result"
    },
    {
     "data": {
      "text/plain": [
       "<BarContainer object of 11 artists>"
      ]
     },
     "execution_count": 145,
     "metadata": {},
     "output_type": "execute_result"
    },
    {
     "data": {
      "text/plain": [
       "<BarContainer object of 11 artists>"
      ]
     },
     "execution_count": 145,
     "metadata": {},
     "output_type": "execute_result"
    },
    {
     "data": {
      "text/plain": [
       "<BarContainer object of 11 artists>"
      ]
     },
     "execution_count": 145,
     "metadata": {},
     "output_type": "execute_result"
    },
    {
     "data": {
      "text/plain": [
       "<matplotlib.legend.Legend at 0x1e4e2544688>"
      ]
     },
     "execution_count": 145,
     "metadata": {},
     "output_type": "execute_result"
    },
    {
     "data": {
      "image/png": "[encoded data removed]",
      "text/plain": [
       "<Figure size 1728x864 with 1 Axes>"
      ]
     },
     "metadata": {
      "needs_background": "light"
     },
     "output_type": "display_data"
    }
   ],
   "source": [
    "x_vals = range(11)\n",
    "plt.figure(figsize=(24, 12))\n",
    "dim_list = df_sent_times[df_sent_times['Logistics_review_score']==3].groupby('sent_duration').size().index.tolist()\n",
    "plt.bar([x-0.05*2 for x in x_vals], \n",
    "        df_sent_times[df_sent_times['Logistics_review_score']==1].groupby('sent_duration').size().values/df_sent_times[df_sent_times['Logistics_review_score']==1].groupby('sent_duration').size().values.sum(), \n",
    "        width=0.05, tick_label=dim_list)\n",
    "plt.bar([x-0.05 for x in x_vals], \n",
    "        df_sent_times[df_sent_times['Logistics_review_score']==2].groupby('sent_duration').size().values/df_sent_times[df_sent_times['Logistics_review_score']==2].groupby('sent_duration').size().values.sum(), \n",
    "        width=0.05)\n",
    "plt.bar([x for x in x_vals], \n",
    "        df_sent_times[df_sent_times['Logistics_review_score']==3].groupby('sent_duration').size().values/df_sent_times[df_sent_times['Logistics_review_score']==3].groupby('sent_duration').size().values.sum(), \n",
    "        width=0.05)\n",
    "plt.bar([x+0.05 for x in x_vals], \n",
    "        df_sent_times[df_sent_times['Logistics_review_score']==4].groupby('sent_duration').size().values/df_sent_times[df_sent_times['Logistics_review_score']==4].groupby('sent_duration').size().values.sum(), \n",
    "        width=0.05)\n",
    "plt.bar([x+0.05*2 for x in x_vals], \n",
    "        df_sent_times[df_sent_times['Logistics_review_score']==5].groupby('sent_duration').size().values/df_sent_times[df_sent_times['Logistics_review_score']==5].groupby('sent_duration').size().values.sum(), \n",
    "        width=0.05)\n",
    "plt.legend(['Logistics_review_score: '+str(x) for x in range(1, 6)], loc=\"upper left\")\n",
    "plt.show()\n"
   ]
  },
  {
   "cell_type": "markdown",
   "metadata": {},
   "source": [
    "#### 不重複商品數所獲評分比例"
   ]
  },
  {
   "cell_type": "code",
   "execution_count": 183,
   "metadata": {},
   "outputs": [
    {
     "data": {
      "image/png": "[encoded data removed]",
      "text/plain": [
       "<Figure size 1296x720 with 1 Axes>"
      ]
     },
     "metadata": {
      "needs_background": "light"
     },
     "output_type": "display_data"
    }
   ],
   "source": [
    "plt.figure(figsize=(18,10))\n",
    "tmp_df_5 = df_sent_times[df_sent_times['Logistics_review_score']==1]\n",
    "plt.plot(tmp_df_5.groupby(['items']).size().values/tmp_df_5.groupby(['items']).size().values.sum(), \n",
    "         alpha=0.3, linewidth=5)\n",
    "tmp_df_5 = df_sent_times[df_sent_times['Logistics_review_score']==2]\n",
    "plt.plot(tmp_df_5.groupby(['items']).size().values/tmp_df_5.groupby(['items']).size().values.sum(), \n",
    "         alpha=0.3, linewidth=5)\n",
    "tmp_df_5 = df_sent_times[df_sent_times['Logistics_review_score']==3]\n",
    "plt.plot(tmp_df_5.groupby(['items']).size().values/tmp_df_5.groupby(['items']).size().values.sum(), \n",
    "         alpha=0.3, linewidth=5)\n",
    "tmp_df_5 = df_sent_times[df_sent_times['Logistics_review_score']==4]\n",
    "plt.plot(tmp_df_5.groupby(['items']).size().values/tmp_df_5.groupby(['items']).size().values.sum(), \n",
    "         alpha=0.3, linewidth=5)\n",
    "tmp_df_5 = df_sent_times[df_sent_times['Logistics_review_score']==5]\n",
    "plt.plot(tmp_df_5.groupby(['items']).size().values/tmp_df_5.groupby(['items']).size().values.sum(), \n",
    "         alpha=0.3, linewidth=5)\n",
    "plt.legend(['Logistics_review_score: '+str(x) for x in range(1, 6)], loc='upper left')\n",
    "plt.show();\n"
   ]
  },
  {
   "cell_type": "markdown",
   "metadata": {},
   "source": [
    "#### 總購買商品數所獲評分比例"
   ]
  },
  {
   "cell_type": "code",
   "execution_count": 182,
   "metadata": {
    "scrolled": false
   },
   "outputs": [
    {
     "data": {
      "image/png": "[encoded data removed]",
      "text/plain": [
       "<Figure size 1296x720 with 1 Axes>"
      ]
     },
     "metadata": {
      "needs_background": "light"
     },
     "output_type": "display_data"
    }
   ],
   "source": [
    "plt.figure(figsize=(18,10))\n",
    "tmp_df_5 = df_sent_times[df_sent_times['Logistics_review_score']==1]\n",
    "plt.plot(tmp_df_5.groupby(['quantity']).size().values/tmp_df_5.groupby(['quantity']).size().values.sum(), \n",
    "         alpha=0.3, linewidth=5)\n",
    "tmp_df_5 = df_sent_times[df_sent_times['Logistics_review_score']==2]\n",
    "plt.plot(tmp_df_5.groupby(['quantity']).size().values/tmp_df_5.groupby(['quantity']).size().values.sum(), \n",
    "         alpha=0.3, linewidth=5)\n",
    "tmp_df_5 = df_sent_times[df_sent_times['Logistics_review_score']==3]\n",
    "plt.plot(tmp_df_5.groupby(['quantity']).size().values/tmp_df_5.groupby(['quantity']).size().values.sum(), \n",
    "         alpha=0.3, linewidth=5)\n",
    "tmp_df_5 = df_sent_times[df_sent_times['Logistics_review_score']==4]\n",
    "plt.plot(tmp_df_5.groupby(['quantity']).size().values/tmp_df_5.groupby(['quantity']).size().values.sum(), \n",
    "         alpha=0.3, linewidth=5)\n",
    "tmp_df_5 = df_sent_times[df_sent_times['Logistics_review_score']==5]\n",
    "plt.plot(tmp_df_5.groupby(['quantity']).size().values/tmp_df_5.groupby(['quantity']).size().values.sum(), \n",
    "         alpha=0.3, linewidth=5)\n",
    "plt.legend(['Logistics_review_score: '+str(x) for x in range(1, 6)], loc='upper left')\n",
    "plt.show();\n"
   ]
  },
  {
   "cell_type": "markdown",
   "metadata": {},
   "source": [
    "#### 不同購買金額所獲評分比例"
   ]
  },
  {
   "cell_type": "code",
   "execution_count": 209,
   "metadata": {},
   "outputs": [
    {
     "data": {
      "image/png": "[encoded data removed]",
      "text/plain": [
       "<Figure size 1296x720 with 1 Axes>"
      ]
     },
     "metadata": {
      "needs_background": "light"
     },
     "output_type": "display_data"
    }
   ],
   "source": [
    "plt.figure(figsize=(18,10))\n",
    "tmp_df_5 = df_sent_times[df_sent_times['Logistics_review_score']==1]\n",
    "plt.plot(np.array(sorted(tmp_df_5['purchase_value'].values.tolist(), reverse=True))/sum(tmp_df_5['purchase_value'].values.tolist()), \n",
    "         alpha=0.3, linewidth=5)\n",
    "tmp_df_5 = df_sent_times[df_sent_times['Logistics_review_score']==2]\n",
    "plt.plot(np.array(sorted(tmp_df_5['purchase_value'].values.tolist(), reverse=True))/sum(tmp_df_5['purchase_value'].values.tolist()), \n",
    "         alpha=0.3, linewidth=5)\n",
    "tmp_df_5 = df_sent_times[df_sent_times['Logistics_review_score']==3]\n",
    "plt.plot(np.array(sorted(tmp_df_5['purchase_value'].values.tolist(), reverse=True))/sum(tmp_df_5['purchase_value'].values.tolist()), \n",
    "         alpha=0.3, linewidth=5)\n",
    "tmp_df_5 = df_sent_times[df_sent_times['Logistics_review_score']==4]\n",
    "plt.plot(np.array(sorted(tmp_df_5['purchase_value'].values.tolist(), reverse=True))/sum(tmp_df_5['purchase_value'].values.tolist()), \n",
    "         alpha=0.3, linewidth=5)\n",
    "tmp_df_5 = df_sent_times[df_sent_times['Logistics_review_score']==5]\n",
    "plt.plot(np.array(sorted(tmp_df_5['purchase_value'].values.tolist(), reverse=True))/sum(tmp_df_5['purchase_value'].values.tolist()), \n",
    "         alpha=0.3, linewidth=5)\n",
    "plt.legend(['Logistics_review_score: '+str(x) for x in range(1, 6)], loc='upper left')\n",
    "plt.show();\n"
   ]
  },
  {
   "cell_type": "markdown",
   "metadata": {},
   "source": [
    "### EDA\n",
    "原始資料筆數過多，目前先抽樣100000筆不重複訂單當作觀察\n",
    "數值指標/維度：\n",
    "- 物流評分\n",
    "- 運送天數\n",
    "- 運送商品數\n",
    "- 訂單總金額\n",
    "- ~~該 merchant 的平均物流評分~~\n",
    "- ~~該 merchant 的平均流量~~\n",
    "\n",
    "類別維度：\n",
    "- 下訂單時間\n",
    "    - 月份\n",
    "    - 星期幾\n",
    "    - 日期(月初、月中、月末)\n",
    "- 到貨時間\n",
    "    - 月份\n",
    "    - 星期幾\n",
    "    - 日期(月初、月中、月末)\n",
    "\n",
    "    \n",
    "``` \n",
    "`order.csv`\n",
    "- Different items are separated by “;”\n",
    "- the information for each item is separated by “:” (item_id:quantity:payment_amount)\n",
    "- Payment amount = total payment for all quantity of this item\n",
    "```\n",
    "    "
   ]
  },
  {
   "cell_type": "code",
   "execution_count": 214,
   "metadata": {},
   "outputs": [
    {
     "data": {
      "image/png": "[encoded data removed]",
      "text/plain": [
       "<Figure size 1296x720 with 1 Axes>"
      ]
     },
     "metadata": {
      "needs_background": "light"
     },
     "output_type": "display_data"
    }
   ],
   "source": [
    "plt.figure(figsize=(18,10))\n",
    "tmp_df_5 = df_sent_times[df_sent_times['sent_duration']=='0']\n",
    "plt.plot(np.array(sorted(tmp_df_5['purchase_value'].values.tolist(), reverse=True))/sum(tmp_df_5['purchase_value'].values.tolist()), \n",
    "         alpha=0.3, linewidth=5)\n",
    "tmp_df_5 = df_sent_times[df_sent_times['sent_duration']=='1']\n",
    "plt.plot(np.array(sorted(tmp_df_5['purchase_value'].values.tolist(), reverse=True))/sum(tmp_df_5['purchase_value'].values.tolist()), \n",
    "         alpha=0.3, linewidth=5)\n",
    "tmp_df_5 = df_sent_times[df_sent_times['sent_duration']=='2']\n",
    "plt.plot(np.array(sorted(tmp_df_5['purchase_value'].values.tolist(), reverse=True))/sum(tmp_df_5['purchase_value'].values.tolist()), \n",
    "         alpha=0.3, linewidth=5)\n",
    "tmp_df_5 = df_sent_times[df_sent_times['sent_duration']=='3']\n",
    "plt.plot(np.array(sorted(tmp_df_5['purchase_value'].values.tolist(), reverse=True))/sum(tmp_df_5['purchase_value'].values.tolist()), \n",
    "         alpha=0.3, linewidth=5)\n",
    "tmp_df_5 = df_sent_times[df_sent_times['sent_duration']=='4']\n",
    "plt.plot(np.array(sorted(tmp_df_5['purchase_value'].values.tolist(), reverse=True))/sum(tmp_df_5['purchase_value'].values.tolist()), \n",
    "         alpha=0.3, linewidth=5)\n",
    "tmp_df_5 = df_sent_times[df_sent_times['sent_duration']=='5']\n",
    "plt.plot(np.array(sorted(tmp_df_5['purchase_value'].values.tolist(), reverse=True))/sum(tmp_df_5['purchase_value'].values.tolist()), \n",
    "         alpha=0.3, linewidth=5)\n",
    "tmp_df_5 = df_sent_times[df_sent_times['sent_duration']=='6']\n",
    "plt.plot(np.array(sorted(tmp_df_5['purchase_value'].values.tolist(), reverse=True))/sum(tmp_df_5['purchase_value'].values.tolist()), \n",
    "         alpha=0.3, linewidth=5)\n",
    "tmp_df_5 = df_sent_times[df_sent_times['sent_duration']=='7']\n",
    "plt.plot(np.array(sorted(tmp_df_5['purchase_value'].values.tolist(), reverse=True))/sum(tmp_df_5['purchase_value'].values.tolist()), \n",
    "         alpha=0.3, linewidth=5)\n",
    "tmp_df_5 = df_sent_times[df_sent_times['sent_duration']=='8']\n",
    "plt.plot(np.array(sorted(tmp_df_5['purchase_value'].values.tolist(), reverse=True))/sum(tmp_df_5['purchase_value'].values.tolist()), \n",
    "         alpha=0.3, linewidth=5)\n",
    "tmp_df_5 = df_sent_times[df_sent_times['sent_duration']=='9']\n",
    "plt.plot(np.array(sorted(tmp_df_5['purchase_value'].values.tolist(), reverse=True))/sum(tmp_df_5['purchase_value'].values.tolist()), \n",
    "         alpha=0.3, linewidth=5)\n",
    "tmp_df_5 = df_sent_times[df_sent_times['sent_duration']=='10+']\n",
    "plt.plot(np.array(sorted(tmp_df_5['purchase_value'].values.tolist(), reverse=True))/sum(tmp_df_5['purchase_value'].values.tolist()), \n",
    "         alpha=0.3, linewidth=5)\n",
    "plt.legend(['sent_duration: '+str(x) for x in range(1, 6)], loc='upper left')\n",
    "plt.show();\n"
   ]
  },
  {
   "cell_type": "code",
   "execution_count": null,
   "metadata": {},
   "outputs": [],
   "source": []
  }
 ],
 "metadata": {
  "kernelspec": {
   "display_name": "Python 3",
   "language": "python",
   "name": "python3"
  },
  "language_info": {
   "codemirror_mode": {
    "name": "ipython",
    "version": 3
   },
   "file_extension": ".py",
   "mimetype": "text/x-python",
   "name": "python",
   "nbconvert_exporter": "python",
   "pygments_lexer": "ipython3",
   "version": "3.7.9"
  }
 },
 "nbformat": 4,
 "nbformat_minor": 2
}
